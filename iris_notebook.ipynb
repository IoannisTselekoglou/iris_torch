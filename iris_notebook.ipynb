{
 "cells": [
  {
   "cell_type": "code",
   "execution_count": 1,
   "id": "56d69aed",
   "metadata": {},
   "outputs": [],
   "source": [
    "import os\n",
    "import pandas as pd\n",
    "import torch\n",
    "import torch.nn as nn\n",
    "from torch.utils.data import Dataset\n",
    "from torch.utils.data import DataLoader\n",
    "import torch\n",
    "from sklearn.preprocessing import StandardScaler, LabelEncoder\n"
   ]
  },
  {
   "cell_type": "code",
   "execution_count": 2,
   "id": "5d6c7d58",
   "metadata": {},
   "outputs": [],
   "source": [
    "#create custom Dataset\n",
    "encoder = LabelEncoder()\n",
    "class CustomDataset(Dataset):\n",
    "    def __init__(self):\n",
    "        data = pd.read_csv(\"./dataset/IRIS.csv\", sep=\",\", header=1)\n",
    "        self.y = encoder.fit_transform(data.iloc[::1,4]) # map 0,1,2 to labels\n",
    "        self.x = torch.from_numpy(data.iloc[:,:-1].values).float() # classes converted from df to tensor\n",
    "        self.len = len(data) \n",
    "    def __len__(self):\n",
    "        return self.len\n",
    "\n",
    "    def __getitem__(self, idx):\n",
    "        return self.x[idx], self.y[idx]"
   ]
  },
  {
   "cell_type": "code",
   "execution_count": 3,
   "id": "1d03dd56",
   "metadata": {},
   "outputs": [],
   "source": [
    "#load dataset and split in training and testset\n",
    "dataset = CustomDataset()\n",
    "train_dataset, test_dataset = torch.utils.data.random_split(dataset, [0.8, 0.2])"
   ]
  },
  {
   "cell_type": "code",
   "execution_count": 4,
   "id": "1e6852b1",
   "metadata": {},
   "outputs": [],
   "source": [
    "#define batch size and laod data \n",
    "batch_size = 10\n",
    "train_set = DataLoader(train_dataset, batch_size=batch_size, shuffle=True) \n",
    "test_set = DataLoader(test_dataset, batch_size=batch_size*2)"
   ]
  },
  {
   "cell_type": "code",
   "execution_count": 5,
   "id": "f763b536",
   "metadata": {},
   "outputs": [],
   "source": [
    "#create NN-Network\n",
    "#4 inputs features and 3 output categories \n",
    "class NeuralNetwork(nn.Module):\n",
    "    def __init__(self):\n",
    "        super().__init__()\n",
    "        self.linear_stack =  nn.Sequential(\n",
    "         nn.Linear(4,128),\n",
    "         nn.ReLU(),\n",
    "         nn.Linear(128,64),\n",
    "         nn.ReLU(),\n",
    "         nn.Linear(64,3)\n",
    "         )\n",
    "    def forward(self, x):\n",
    "        logits = self.linear_stack(x)\n",
    "        return logits"
   ]
  },
  {
   "cell_type": "code",
   "execution_count": 6,
   "id": "ad83603b",
   "metadata": {},
   "outputs": [],
   "source": [
    "# define Parameters and load NN\n",
    "lr = 0.01\n",
    "model = NeuralNetwork()\n",
    "optimizer = torch.optim.Adam(model.parameters(), lr=lr)\n",
    "#optim = torch.optim.SGD(model.parameters(), lr=lr, momentum=0.9)\n",
    "loss_fn = torch.nn.CrossEntropyLoss()"
   ]
  },
  {
   "cell_type": "code",
   "execution_count": 7,
   "id": "0a8f6daa",
   "metadata": {},
   "outputs": [
    {
     "name": "stdout",
     "output_type": "stream",
     "text": [
      "Epoch [0/800], Loss: 0.8167, Accuracy: 0.6083\n",
      "Epoch [80/800], Loss: 0.0922, Accuracy: 0.9500\n",
      "Epoch [160/800], Loss: 0.0827, Accuracy: 0.9750\n",
      "Epoch [240/800], Loss: 0.0585, Accuracy: 0.9667\n",
      "Epoch [320/800], Loss: 0.0605, Accuracy: 0.9833\n",
      "Epoch [400/800], Loss: 0.0548, Accuracy: 0.9750\n",
      "Epoch [480/800], Loss: 0.0675, Accuracy: 0.9750\n",
      "Epoch [560/800], Loss: 0.0626, Accuracy: 0.9750\n",
      "Epoch [640/800], Loss: 0.0649, Accuracy: 0.9667\n",
      "Epoch [720/800], Loss: 0.0565, Accuracy: 0.9833\n",
      "Epoch [799/800], Loss: 0.0556, Accuracy: 0.9750\n"
     ]
    }
   ],
   "source": [
    "def train_model(train_set, model, optimizer, loss_fn):\n",
    "    n_epochs = 800\n",
    "    print_every = n_epochs // 80\n",
    "    losses = []\n",
    "\n",
    "    for epoch in range(n_epochs):\n",
    "        running_loss = 0.0\n",
    "        correct_predictions = 0\n",
    "        total_samples = 0\n",
    "\n",
    "        for i, (inputs, labels) in enumerate(train_set):\n",
    "            optimizer.zero_grad()\n",
    "            outputs = model(inputs.float())\n",
    "            loss = loss_fn(outputs, labels)\n",
    "            loss.backward()\n",
    "            optimizer.step()\n",
    "\n",
    "            running_loss += loss.item()\n",
    "\n",
    "            _, predicted = torch.max(outputs.data, 1)\n",
    "            total_samples += labels.size(0)\n",
    "            correct_predictions += (predicted == labels).sum().item()\n",
    "\n",
    "        accuracy = correct_predictions / total_samples\n",
    "        losses.append(running_loss / len(train_set))\n",
    "\n",
    "        if epoch % print_every == 0 or epoch == n_epochs - 1:\n",
    "            print(f\"Epoch [{epoch}/{n_epochs}], Loss: {running_loss / len(train_set):.4f}, Accuracy: {accuracy:.4f}\")\n",
    "\n",
    "    #return losses\n",
    "train_model(train_set, model, optimizer, loss_fn)"
   ]
  },
  {
   "cell_type": "code",
   "execution_count": 8,
   "id": "f29d4bb8",
   "metadata": {},
   "outputs": [
    {
     "name": "stdout",
     "output_type": "stream",
     "text": [
      "              precision    recall  f1-score   support\n",
      "\n",
      "           0       1.00      1.00      1.00         8\n",
      "           1       1.00      1.00      1.00        11\n",
      "           2       1.00      1.00      1.00        10\n",
      "\n",
      "    accuracy                           1.00        29\n",
      "   macro avg       1.00      1.00      1.00        29\n",
      "weighted avg       1.00      1.00      1.00        29\n",
      "\n"
     ]
    }
   ],
   "source": [
    "#Evaluate the Model\n",
    "from sklearn.model_selection import train_test_split\n",
    "from sklearn.metrics import classification_report\n",
    "\n",
    "Y_pred = []\n",
    "Y_hat = []\n",
    "\n",
    "with torch.no_grad():\n",
    "    for i, (inputs, labels) in enumerate(test_set):\n",
    "        out = model(inputs.float())\n",
    "        _, out_hat = torch.max(out, 1)\n",
    "        Y_pred.append(out_hat)\n",
    "        Y_hat.append(labels)\n",
    "          \n",
    "Y_pred = torch.cat(Y_pred)\n",
    "Y_hat = torch.cat(Y_hat)\n",
    "\n",
    "# Convert to numpy arrays\n",
    "y_true = Y_hat.cpu().detach().numpy()\n",
    "y_pred = Y_pred.cpu().detach().numpy()\n",
    "\n",
    "# Print classification report with zero_division='warn'\n",
    "print(classification_report(y_true=y_true, y_pred=y_pred, zero_division='warn'))\n"
   ]
  },
  {
   "cell_type": "code",
   "execution_count": 9,
   "id": "ff69a0f6",
   "metadata": {},
   "outputs": [
    {
     "data": {
      "text/plain": [
       "tensor([ 16.6301,  -6.5155, -44.1537], grad_fn=<ViewBackward0>)"
      ]
     },
     "execution_count": 9,
     "metadata": {},
     "output_type": "execute_result"
    }
   ],
   "source": [
    "#Small test witt random datapoint:\n",
    "output_test = model(torch.tensor([4.5,2.3,1.3,0.3]))\n",
    "output_test"
   ]
  },
  {
   "cell_type": "code",
   "execution_count": 10,
   "id": "bbbeac4d",
   "metadata": {},
   "outputs": [
    {
     "data": {
      "text/plain": [
       "array([0, 0, 0, 0, 0, 0, 0, 0, 0, 0, 0, 0, 0, 0, 0, 0, 0, 0, 0, 0, 0, 0,\n",
       "       0, 0, 0, 0, 0, 0, 0, 0, 0, 0, 0, 0, 0, 0, 0, 0, 0, 0, 0, 0, 0, 0,\n",
       "       0, 0, 0, 0, 0, 0, 1, 1, 1, 1, 1, 1, 1, 1, 1, 1, 1, 1, 1, 1, 1, 1,\n",
       "       1, 1, 1, 1, 1, 1, 1, 1, 1, 1, 1, 1, 1, 1, 1, 1, 1, 1, 1, 1, 1, 1,\n",
       "       1, 1, 1, 1, 1, 1, 1, 1, 1, 1, 1, 1, 2, 2, 2, 2, 2, 2, 2, 2, 2, 2,\n",
       "       2, 2, 2, 2, 2, 2, 2, 2, 2, 2, 2, 2, 2, 2, 2, 2, 2, 2, 2, 2, 2, 2,\n",
       "       2, 2, 2, 2, 2, 2, 2, 2, 2, 2, 2, 2, 2, 2, 2, 2, 2, 2])"
      ]
     },
     "execution_count": 10,
     "metadata": {},
     "output_type": "execute_result"
    }
   ],
   "source": [
    "df = pd.read_csv(\"./dataset/IRIS.csv\", sep=\",\")\n",
    "y = df.iloc[::1,4]\n",
    "encoder.fit_transform(y)"
   ]
  },
  {
   "cell_type": "code",
   "execution_count": 11,
   "id": "e2a61d52",
   "metadata": {},
   "outputs": [
    {
     "data": {
      "text/plain": [
       "'Iris-setosa'"
      ]
     },
     "execution_count": 11,
     "metadata": {},
     "output_type": "execute_result"
    }
   ],
   "source": [
    "output_test = torch.argmax(output_test)\n",
    "flower = output_test.item()\n",
    "encoder.inverse_transform([flower]).item()"
   ]
  },
  {
   "cell_type": "code",
   "execution_count": null,
   "id": "4d536f73",
   "metadata": {},
   "outputs": [],
   "source": []
  },
  {
   "cell_type": "code",
   "execution_count": null,
   "id": "0f1c62a7",
   "metadata": {},
   "outputs": [],
   "source": []
  }
 ],
 "metadata": {
  "kernelspec": {
   "display_name": "Python 3 (ipykernel)",
   "language": "python",
   "name": "python3"
  },
  "language_info": {
   "codemirror_mode": {
    "name": "ipython",
    "version": 3
   },
   "file_extension": ".py",
   "mimetype": "text/x-python",
   "name": "python",
   "nbconvert_exporter": "python",
   "pygments_lexer": "ipython3",
   "version": "3.10.12"
  }
 },
 "nbformat": 4,
 "nbformat_minor": 5
}
