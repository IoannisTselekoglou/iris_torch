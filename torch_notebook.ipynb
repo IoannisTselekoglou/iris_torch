{
 "cells": [
  {
   "cell_type": "code",
   "execution_count": 1,
   "id": "7a178dfa",
   "metadata": {},
   "outputs": [],
   "source": [
    "import os\n",
    "import pandas as pd\n",
    "import torch\n",
    "import torch.nn as nn\n",
    "from torch.utils.data import Dataset\n",
    "from torch.utils.data import DataLoader\n",
    "import torch\n",
    "from sklearn.model_selection import train_test_split"
   ]
  },
  {
   "cell_type": "code",
   "execution_count": 2,
   "id": "e900c8fd",
   "metadata": {},
   "outputs": [],
   "source": [
    "#create custom data class\n",
    "\n",
    "class CustomDataset(Dataset):\n",
    "    def __init__(self, path):\n",
    "        self.data = pd.read_csv(path, sep=\",\", header=1)\n",
    "        \n",
    "    def __len__(self):\n",
    "        return len(self.data)\n",
    "\n",
    "    def __getitem__(self, idx):\n",
    "        sepal_length = torch.tensor(self.data.iloc[idx, 0])\n",
    "        sepal_width = self.data.iloc[idx, 1]\n",
    "        petal_length = self.data.iloc[idx, 2]\n",
    "        petal_width = self.data.iloc[idx, 3] \n",
    "        label = self.data.iloc[idx, 4]\n",
    "        \n",
    "        tensor_data = torch.tensor([sepal_length,sepal_width,sepal_width,sepal_width],dtype=torch.float32)\n",
    "        \n",
    "        return tensor_data , label"
   ]
  },
  {
   "cell_type": "code",
   "execution_count": 3,
   "id": "48179a86",
   "metadata": {},
   "outputs": [
    {
     "data": {
      "text/plain": [
       "(120, 29)"
      ]
     },
     "execution_count": 3,
     "metadata": {},
     "output_type": "execute_result"
    }
   ],
   "source": [
    "#just my afwull way to seperate training and testing dataset\n",
    "# 80% training , 20% Test\n",
    "\n",
    "dataset = CustomDataset(\"./dataset/IRIS.csv\")\n",
    "train_dataset, val_dataset = torch.utils.data.random_split(dataset, [0.8, 0.2])\n",
    "len(train_dataset),len(val_dataset)"
   ]
  },
  {
   "cell_type": "code",
   "execution_count": 4,
   "id": "2505e107",
   "metadata": {},
   "outputs": [],
   "source": [
    "#create train_dataloader and test_dataloader\n",
    "# 80% for training, 20% of data for testing -> 149*0.8 = 119.2 -> 120 , 29\n",
    "batch_size = 10\n",
    "\n",
    "train_loader = DataLoader(dataset, batch_size=batch_size, shuffle=True) \n",
    "test_loader = DataLoader(dataset, batch_size=batch_size, shuffle=True)"
   ]
  },
  {
   "cell_type": "code",
   "execution_count": 5,
   "id": "6c5883ec",
   "metadata": {},
   "outputs": [],
   "source": [
    "#4 inputs and 3  outputs \n",
    "class NeuralNetwork(nn.Module):\n",
    "    def __init__(self):\n",
    "        super().__init__()\n",
    "        self.linear_stack =  nn.Sequential(\n",
    "         nn.Linear(4,128),\n",
    "         nn.ReLU(),\n",
    "         nn.Linear(128,64),\n",
    "         nn.ReLU(),\n",
    "         nn.Linear(64,3),\n",
    "         )\n",
    "    def forward(self, x):\n",
    "        logits = self.linear_stack(x)\n",
    "        return logits"
   ]
  },
  {
   "cell_type": "code",
   "execution_count": 6,
   "id": "ae5c52d0",
   "metadata": {},
   "outputs": [],
   "source": [
    "#map labels into tensor of shape [1, 0, 0]\n",
    "def transform_label(label_data):\n",
    "    data = []\n",
    "    for i in label_data:\n",
    "        if i == \"Iris-setosa\":\n",
    "            #data.append(torch.tensor([1,0,0], dtype=torch.float32))\n",
    "            data.append(torch.tensor(0))\n",
    "        if i == \"Iris-versicolor\": \n",
    "            #data.append(torch.tensor([0,1,0], dtype=torch.float32))\n",
    "            data.append(torch.tensor(1))\n",
    "        if i == \"Iris-virginica\":\n",
    "            #data.append(torch.tensor([0,0,1], dtype=torch.float32))\n",
    "            data.append(torch.tensor(2))\n",
    "    return torch.stack(data)"
   ]
  },
  {
   "cell_type": "code",
   "execution_count": 7,
   "id": "7705271c",
   "metadata": {},
   "outputs": [
    {
     "data": {
      "text/plain": [
       "('Iris-virginica',\n",
       " 'Iris-virginica',\n",
       " 'Iris-setosa',\n",
       " 'Iris-versicolor',\n",
       " 'Iris-virginica',\n",
       " 'Iris-setosa',\n",
       " 'Iris-versicolor',\n",
       " 'Iris-virginica',\n",
       " 'Iris-setosa',\n",
       " 'Iris-setosa')"
      ]
     },
     "execution_count": 7,
     "metadata": {},
     "output_type": "execute_result"
    }
   ],
   "source": [
    "X_train, train_labels = next(iter(train_loader))\n",
    "#train_labels before mapping tesnors \n",
    "train_labels"
   ]
  },
  {
   "cell_type": "code",
   "execution_count": 8,
   "id": "650fee92",
   "metadata": {},
   "outputs": [
    {
     "data": {
      "text/plain": [
       "tensor([2, 2, 0, 1, 2, 0, 1, 2, 0, 0])"
      ]
     },
     "execution_count": 8,
     "metadata": {},
     "output_type": "execute_result"
    }
   ],
   "source": [
    "#train_labels, X_train = next(iter(train_loader))\n",
    "train_labels = transform_label(train_labels)\n",
    "X_train.shape, train_labels.shape, X_train.dtype, train_labels.dtype\n",
    "train_labels"
   ]
  },
  {
   "cell_type": "code",
   "execution_count": 9,
   "id": "ec8e71ce",
   "metadata": {},
   "outputs": [
    {
     "data": {
      "text/plain": [
       "(tensor([[7.2000, 3.2000, 3.2000, 3.2000],\n",
       "         [6.9000, 3.1000, 3.1000, 3.1000],\n",
       "         [5.1000, 3.8000, 3.8000, 3.8000],\n",
       "         [6.3000, 2.3000, 2.3000, 2.3000],\n",
       "         [6.7000, 3.0000, 3.0000, 3.0000],\n",
       "         [4.7000, 3.2000, 3.2000, 3.2000],\n",
       "         [5.0000, 2.3000, 2.3000, 2.3000],\n",
       "         [6.4000, 3.2000, 3.2000, 3.2000],\n",
       "         [5.1000, 3.8000, 3.8000, 3.8000],\n",
       "         [5.2000, 3.4000, 3.4000, 3.4000]]),\n",
       " tensor([2, 2, 0, 1, 2, 0, 1, 2, 0, 0]))"
      ]
     },
     "execution_count": 9,
     "metadata": {},
     "output_type": "execute_result"
    }
   ],
   "source": [
    "X_train, train_labels"
   ]
  },
  {
   "cell_type": "code",
   "execution_count": 12,
   "id": "8edbb367",
   "metadata": {},
   "outputs": [],
   "source": [
    "#create model\n",
    "lr = 0.01\n",
    "model = NeuralNetwork()\n",
    "optim = torch.optim.SGD(model.parameters(), lr=lr)\n",
    "loss = torch.nn.CrossEntropyLoss()\n",
    "#loss = torch.nn.MSELoss()\n",
    "#Weights are by default torch.32 not 64 --> error message "
   ]
  },
  {
   "cell_type": "code",
   "execution_count": 13,
   "id": "f80d9161",
   "metadata": {
    "scrolled": true
   },
   "outputs": [
    {
     "name": "stdout",
     "output_type": "stream",
     "text": [
      "\n",
      " epoch: 50/500, loss: 1.0882762670516968\n",
      "\n",
      " epoch: 100/500, loss: 0.6235557990331276\n",
      "\n",
      " epoch: 150/500, loss: 0.5674979658705173\n",
      "\n",
      " epoch: 200/500, loss: 0.5400670744133311\n",
      "\n",
      " epoch: 250/500, loss: 0.5218866834444786\n",
      "\n",
      " epoch: 300/500, loss: 0.513644625347449\n",
      "\n",
      " epoch: 350/500, loss: 0.5026437971382046\n",
      "\n",
      " epoch: 400/500, loss: 0.4981175306176188\n",
      "\n",
      " epoch: 450/500, loss: 0.49155918209630056\n",
      "\n",
      " epoch: 500/500, loss: 0.48949935473914685\n"
     ]
    }
   ],
   "source": [
    "n_iters = 500\n",
    "steps = n_iters/10\n",
    "LOSS = []\n",
    "for epochs in range(n_iters):  \n",
    "    for i,(inputs, labels) in enumerate(train_loader):\n",
    "        out = model(inputs)\n",
    "        train_labels = transform_label(labels)\n",
    "        l = loss(out, train_labels)\n",
    "        l.backward()\n",
    "        #update weights\n",
    "        optim.step()\n",
    "        optim.zero_grad()\n",
    "    LOSS.append(l.item())\n",
    "    if epochs%steps == 0:\n",
    "        print(f\"\\n epoch: {int(epochs+steps)}/{n_iters}, loss: {sum(LOSS)/len(LOSS)}\")\n",
    "        #if i % 1 == 0:\n",
    "            #print(f\" steps: {i+1}, loss : {l.item()}\")"
   ]
  },
  {
   "cell_type": "code",
   "execution_count": null,
   "id": "dc3b13a7",
   "metadata": {},
   "outputs": [],
   "source": [
    "#X_test, test_labels = next(iter(test_loader))\n",
    "#test_labels = transform_label(test_labels)\n",
    "#x_label_predicted = model(X_test)\n",
    "#x_label_predicted, test_labels"
   ]
  },
  {
   "cell_type": "code",
   "execution_count": null,
   "id": "286d7de3",
   "metadata": {},
   "outputs": [],
   "source": [
    "#\"\"\"\"\n",
    "#def final_x(x_hat):\n",
    "#    list_tensors = []\n",
    "#    for i in x_hat:\n",
    "#        print(i)\n",
    "#        final_tensor = torch.zeros(1,3)\n",
    "#        final_tensor[0:,i] = 1\n",
    "#        list_tensors.append(final_tensor)\n",
    "#    return torch.cat(list_tensors)\n",
    "#    \n",
    "#    # tensor[0:,1] = 4 to accses specific value \n",
    "#_, x_label_predicted_hat = torch.max(x_label_predicted,1)\n",
    "#x_label_predicted_hat"
   ]
  },
  {
   "cell_type": "code",
   "execution_count": null,
   "id": "39b4c053",
   "metadata": {},
   "outputs": [],
   "source": [
    "#final_x = final_x(x_label_predicted_hat)"
   ]
  },
  {
   "cell_type": "code",
   "execution_count": null,
   "id": "8ad2a7c1",
   "metadata": {},
   "outputs": [],
   "source": [
    "def get_accuracy(model_prediction, test_labels):\n",
    "    idx = 0\n",
    "    number_pred = 0\n",
    "    counter = 0\n",
    "    while idx < 10:\n",
    "        print(f\" \\n Tensor[{idx+1}]\")\n",
    "        for i in range(3):\n",
    "            print(f\"model: {model_prediction[idx][i].item()}, label: {test_labels[idx][i].item()}\")\n",
    "            if model_prediction[idx][i].item() == test_labels[idx][i].item():\n",
    "\n",
    "                counter += 1\n",
    "                if counter == 3:\n",
    "                    number_pred += 1\n",
    "        counter = 0\n",
    "          \n",
    "        idx +=1\n",
    "    accuracy = number_pred/10 *100\n",
    "    return print(f\"\\naccuracy of model {number_pred/10 *100}%\")"
   ]
  },
  {
   "cell_type": "code",
   "execution_count": null,
   "id": "ccc3bb92",
   "metadata": {},
   "outputs": [],
   "source": [
    "#get_accuracy(final_x, test_labels)"
   ]
  },
  {
   "cell_type": "code",
   "execution_count": null,
   "id": "78f3c392",
   "metadata": {},
   "outputs": [],
   "source": [
    "#test_loader = DataLoader(test_dataset, batch_size=10, shuffle=True)\n",
    "import accuracy_model as ac\n",
    "test_model_acc = ac.data_loader\n",
    "test_model_acc.accuracy(model, test_loader, batch_size=10)"
   ]
  },
  {
   "cell_type": "code",
   "execution_count": null,
   "id": "a0ceab23",
   "metadata": {},
   "outputs": [],
   "source": [
    "# save model \n",
    "#torch.save(model.state_dict(), \"./model\")"
   ]
  },
  {
   "cell_type": "code",
   "execution_count": null,
   "id": "13ddf8bd",
   "metadata": {},
   "outputs": [],
   "source": []
  },
  {
   "cell_type": "code",
   "execution_count": null,
   "id": "4001b016",
   "metadata": {},
   "outputs": [],
   "source": []
  }
 ],
 "metadata": {
  "kernelspec": {
   "display_name": "Python 3 (ipykernel)",
   "language": "python",
   "name": "python3"
  },
  "language_info": {
   "codemirror_mode": {
    "name": "ipython",
    "version": 3
   },
   "file_extension": ".py",
   "mimetype": "text/x-python",
   "name": "python",
   "nbconvert_exporter": "python",
   "pygments_lexer": "ipython3",
   "version": "3.10.8"
  }
 },
 "nbformat": 4,
 "nbformat_minor": 5
}
