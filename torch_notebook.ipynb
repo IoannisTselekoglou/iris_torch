{
 "cells": [
  {
   "cell_type": "code",
   "execution_count": 1,
   "id": "7a178dfa",
   "metadata": {},
   "outputs": [],
   "source": [
    "import os\n",
    "import pandas as pd\n",
    "import torch\n",
    "import torch.nn as nn\n",
    "from torch.utils.data import Dataset\n",
    "from torch.utils.data import DataLoader\n",
    "import torch"
   ]
  },
  {
   "cell_type": "code",
   "execution_count": 2,
   "id": "e900c8fd",
   "metadata": {},
   "outputs": [],
   "source": [
    "#create custom data class\n",
    "\n",
    "class CustomDataset(Dataset):\n",
    "    def __init__(self,low_idx,high_idx):\n",
    "        self.data = pd.read_csv(\"./dataset/IRIS.csv\", sep=\",\", skiprows=range(low_idx,high_idx), header=1)\n",
    "        \n",
    "    def __len__(self):\n",
    "        return len(self.data)\n",
    "\n",
    "    def __getitem__(self, idx):\n",
    "        sepal_length = torch.tensor(self.data.iloc[idx, 0])\n",
    "        sepal_width = self.data.iloc[idx, 1]\n",
    "        petal_length = self.data.iloc[idx, 2]\n",
    "        petal_width = self.data.iloc[idx, 3] \n",
    "        label = self.data.iloc[idx, 4]\n",
    "        \n",
    "        tensor_data = torch.tensor([sepal_length,sepal_width,sepal_width,sepal_width],dtype=torch.float32)\n",
    "        \n",
    "        return tensor_data , label"
   ]
  },
  {
   "cell_type": "code",
   "execution_count": 3,
   "id": "48179a86",
   "metadata": {},
   "outputs": [
    {
     "data": {
      "text/plain": [
       "(120, 30)"
      ]
     },
     "execution_count": 3,
     "metadata": {},
     "output_type": "execute_result"
    }
   ],
   "source": [
    "#just my afwull way to seperate training and testing dataset\n",
    "# 80% training , 20% Test\n",
    "\n",
    "train_dataset = CustomDataset(120,149)\n",
    "test_dataset = CustomDataset(1,120)\n",
    "len(train_dataset), len(test_dataset)\n"
   ]
  },
  {
   "cell_type": "code",
   "execution_count": 4,
   "id": "2505e107",
   "metadata": {},
   "outputs": [],
   "source": [
    "#create train_dataloader and test_dataloader\n",
    "# 80% for training, 20% of data for testing -> 149*0.8 = 119.2 -> 120 , 29\n",
    "train_loader = DataLoader(train_dataset, batch_size=10, shuffle=True) \n",
    "test_loader = DataLoader(test_dataset, batch_size=10, shuffle=True)"
   ]
  },
  {
   "cell_type": "code",
   "execution_count": 5,
   "id": "6c5883ec",
   "metadata": {},
   "outputs": [],
   "source": [
    "#4 inputs and 3  outputs \n",
    "class NeuralNetwork(nn.Module):\n",
    "    def __init__(self):\n",
    "        super().__init__()\n",
    "        self.linear_stack =  nn.Sequential(\n",
    "         nn.Linear(4,128),\n",
    "         nn.ReLU(),\n",
    "         nn.Linear(128,64),\n",
    "         nn.ReLU(),\n",
    "         nn.Linear(64,3),\n",
    "         )\n",
    "    def forward(self, x):\n",
    "        logits = self.linear_stack(x)\n",
    "        return logits"
   ]
  },
  {
   "cell_type": "code",
   "execution_count": 6,
   "id": "ae5c52d0",
   "metadata": {},
   "outputs": [],
   "source": [
    "#map labels into tensor of shape [1, 0, 0]\n",
    "def transform_label(label_data):\n",
    "    data = []\n",
    "    for i in label_data:\n",
    "        if i == \"Iris-setosa\":\n",
    "            data.append(torch.tensor([1,0,0], dtype=torch.float32))\n",
    "        if i == \"Iris-versicolor\": \n",
    "            data.append(torch.tensor([0,1,0], dtype=torch.float32))\n",
    "        if i == \"Iris-virginica\":\n",
    "            data.append(torch.tensor([0,0,1], dtype=torch.float32))\n",
    "    return torch.stack(data)"
   ]
  },
  {
   "cell_type": "code",
   "execution_count": 7,
   "id": "09044ad9",
   "metadata": {},
   "outputs": [
    {
     "data": {
      "text/plain": [
       "('Iris-setosa',\n",
       " 'Iris-versicolor',\n",
       " 'Iris-setosa',\n",
       " 'Iris-setosa',\n",
       " 'Iris-versicolor',\n",
       " 'Iris-versicolor',\n",
       " 'Iris-versicolor',\n",
       " 'Iris-virginica',\n",
       " 'Iris-setosa',\n",
       " 'Iris-versicolor')"
      ]
     },
     "execution_count": 7,
     "metadata": {},
     "output_type": "execute_result"
    }
   ],
   "source": [
    "X_train, train_labels = next(iter(train_loader))\n",
    "#train_labels before mapping tesnors \n",
    "train_labels"
   ]
  },
  {
   "cell_type": "code",
   "execution_count": 8,
   "id": "650fee92",
   "metadata": {},
   "outputs": [
    {
     "data": {
      "text/plain": [
       "(torch.Size([10, 4]), torch.Size([10, 3]), torch.float32, torch.float32)"
      ]
     },
     "execution_count": 8,
     "metadata": {},
     "output_type": "execute_result"
    }
   ],
   "source": [
    "#train_labels, X_train = next(iter(train_loader))\n",
    "train_labels = transform_label(train_labels)\n",
    "X_train.shape, train_labels.shape, X_train.dtype, train_labels.dtype"
   ]
  },
  {
   "cell_type": "code",
   "execution_count": 9,
   "id": "ec8e71ce",
   "metadata": {},
   "outputs": [
    {
     "data": {
      "text/plain": [
       "(tensor([[4.8000, 3.0000, 3.0000, 3.0000],\n",
       "         [6.0000, 2.7000, 2.7000, 2.7000],\n",
       "         [4.8000, 3.1000, 3.1000, 3.1000],\n",
       "         [5.2000, 3.4000, 3.4000, 3.4000],\n",
       "         [5.7000, 2.8000, 2.8000, 2.8000],\n",
       "         [5.9000, 3.2000, 3.2000, 3.2000],\n",
       "         [6.4000, 3.2000, 3.2000, 3.2000],\n",
       "         [6.3000, 2.9000, 2.9000, 2.9000],\n",
       "         [5.4000, 3.9000, 3.9000, 3.9000],\n",
       "         [5.5000, 2.6000, 2.6000, 2.6000]]),\n",
       " tensor([[1., 0., 0.],\n",
       "         [0., 1., 0.],\n",
       "         [1., 0., 0.],\n",
       "         [1., 0., 0.],\n",
       "         [0., 1., 0.],\n",
       "         [0., 1., 0.],\n",
       "         [0., 1., 0.],\n",
       "         [0., 0., 1.],\n",
       "         [1., 0., 0.],\n",
       "         [0., 1., 0.]]))"
      ]
     },
     "execution_count": 9,
     "metadata": {},
     "output_type": "execute_result"
    }
   ],
   "source": [
    "X_train, train_labels"
   ]
  },
  {
   "cell_type": "code",
   "execution_count": 10,
   "id": "8edbb367",
   "metadata": {},
   "outputs": [],
   "source": [
    "#create model\n",
    "lr = 0.01\n",
    "model = NeuralNetwork()\n",
    "optim = torch.optim.Adam(model.parameters(), lr=lr)\n",
    "loss = torch.nn.CrossEntropyLoss()\n",
    "#loss = torch.nn.MSELoss()\n",
    "#Weights are by default torch.32 not 64 --> error message "
   ]
  },
  {
   "cell_type": "code",
   "execution_count": 11,
   "id": "f80d9161",
   "metadata": {
    "scrolled": true
   },
   "outputs": [
    {
     "name": "stdout",
     "output_type": "stream",
     "text": [
      "\n",
      " epochs: 100/1000 \n",
      "\n",
      "loss: 0.9915851354598999\n",
      "loss: 1.2492998838424683\n",
      "loss: 1.5773557424545288\n",
      "loss: 1.4274284839630127\n",
      "loss: 1.0542516708374023\n",
      "loss: 1.0552093982696533\n",
      "loss: 1.0616728067398071\n",
      "loss: 0.9820119738578796\n",
      "loss: 1.1465730667114258\n",
      "loss: 0.8269017338752747\n",
      "loss: 1.177398920059204\n",
      "loss: 1.0440948009490967\n",
      "\n",
      " epochs: 200/1000 \n",
      "\n",
      "loss: 0.5441662073135376\n",
      "loss: 0.27309730648994446\n",
      "loss: 0.44869765639305115\n",
      "loss: 0.2771966755390167\n",
      "loss: 0.19319379329681396\n",
      "loss: 0.4082963466644287\n",
      "loss: 0.36315280199050903\n",
      "loss: 0.4315318167209625\n",
      "loss: 0.49728164076805115\n",
      "loss: 0.27391141653060913\n",
      "loss: 0.1712169647216797\n",
      "loss: 0.3732554316520691\n",
      "\n",
      " epochs: 300/1000 \n",
      "\n",
      "loss: 0.2363680601119995\n",
      "loss: 0.2217107117176056\n",
      "loss: 0.26337116956710815\n",
      "loss: 0.2428346425294876\n",
      "loss: 0.49308425188064575\n",
      "loss: 0.5259215235710144\n",
      "loss: 0.4802197813987732\n",
      "loss: 0.608556866645813\n",
      "loss: 0.13630448281764984\n",
      "loss: 0.24147415161132812\n",
      "loss: 0.101205013692379\n",
      "loss: 0.28111451864242554\n",
      "\n",
      " epochs: 400/1000 \n",
      "\n",
      "loss: 0.40398669242858887\n",
      "loss: 0.4375431537628174\n",
      "loss: 0.1302807629108429\n",
      "loss: 0.3649583160877228\n",
      "loss: 0.2334875762462616\n",
      "loss: 0.5565895438194275\n",
      "loss: 0.4147976040840149\n",
      "loss: 0.479218065738678\n",
      "loss: 0.3538671135902405\n",
      "loss: 0.1912805140018463\n",
      "loss: 0.4038620889186859\n",
      "loss: 0.1810111552476883\n",
      "\n",
      " epochs: 500/1000 \n",
      "\n",
      "loss: 0.19985847175121307\n",
      "loss: 0.09214489907026291\n",
      "loss: 0.33668261766433716\n",
      "loss: 0.5644264221191406\n",
      "loss: 0.46665316820144653\n",
      "loss: 0.3409844934940338\n",
      "loss: 0.23818989098072052\n",
      "loss: 0.3395128846168518\n",
      "loss: 0.2567123472690582\n",
      "loss: 0.2104564905166626\n",
      "loss: 0.33439430594444275\n",
      "loss: 0.21309447288513184\n",
      "\n",
      " epochs: 600/1000 \n",
      "\n",
      "loss: 0.2798789143562317\n",
      "loss: 0.6009283661842346\n",
      "loss: 0.12849633395671844\n",
      "loss: 0.24998703598976135\n",
      "loss: 0.3443555533885956\n",
      "loss: 0.33191704750061035\n",
      "loss: 0.39957284927368164\n",
      "loss: 0.14096753299236298\n",
      "loss: 0.2100980281829834\n",
      "loss: 0.1316874921321869\n",
      "loss: 0.2726568877696991\n",
      "loss: 0.3108970522880554\n",
      "\n",
      " epochs: 700/1000 \n",
      "\n",
      "loss: 0.11690658330917358\n",
      "loss: 0.19636298716068268\n",
      "loss: 0.4677564203739166\n",
      "loss: 0.3404102027416229\n",
      "loss: 0.1915457546710968\n",
      "loss: 0.5449514389038086\n",
      "loss: 0.3205656111240387\n",
      "loss: 0.3275776207447052\n",
      "loss: 0.29647189378738403\n",
      "loss: 0.21204416453838348\n",
      "loss: 0.3493668735027313\n",
      "loss: 0.15791483223438263\n",
      "\n",
      " epochs: 800/1000 \n",
      "\n",
      "loss: 0.2683957517147064\n",
      "loss: 0.25295501947402954\n",
      "loss: 0.33636873960494995\n",
      "loss: 0.483908087015152\n",
      "loss: 0.07604663074016571\n",
      "loss: 0.18088577687740326\n",
      "loss: 0.29369261860847473\n",
      "loss: 0.467538982629776\n",
      "loss: 0.3339597284793854\n",
      "loss: 0.3350466191768646\n",
      "loss: 0.018220076337456703\n",
      "loss: 0.32976359128952026\n",
      "\n",
      " epochs: 900/1000 \n",
      "\n",
      "loss: 0.10799381881952286\n",
      "loss: 0.28625720739364624\n",
      "loss: 0.2294929027557373\n",
      "loss: 0.11488143354654312\n",
      "loss: 0.14234498143196106\n",
      "loss: 0.45334187150001526\n",
      "loss: 0.1761341542005539\n",
      "loss: 0.7137143015861511\n",
      "loss: 0.6058331727981567\n",
      "loss: 0.16172358393669128\n",
      "loss: 0.6265602707862854\n",
      "loss: 0.4207361340522766\n",
      "\n",
      " epochs: 1000/1000 \n",
      "\n",
      "loss: 0.05909714102745056\n",
      "loss: 0.23186369240283966\n",
      "loss: 0.32999998331069946\n",
      "loss: 0.2075318843126297\n",
      "loss: 0.41586869955062866\n",
      "loss: 0.2974584400653839\n",
      "loss: 0.29560649394989014\n",
      "loss: 0.45808014273643494\n",
      "loss: 0.40667524933815\n",
      "loss: 0.07572240382432938\n",
      "loss: 0.33501484990119934\n",
      "loss: 0.25543922185897827\n"
     ]
    }
   ],
   "source": [
    "n_iters = 1000\n",
    "for epochs in range(n_iters):\n",
    "    #forward pass and loss\n",
    "    #test_labels, X_test = next(iter(test_loader))\n",
    "    if epochs%100 == 0:\n",
    "        print(f\"\\n epochs: {epochs+100}/{n_iters} \\n\")\n",
    "    for i,(inputs, labels) in enumerate(train_loader):\n",
    "        out = model(inputs)\n",
    "        train_labels = transform_label(labels)\n",
    "        l = loss(out, train_labels)\n",
    "        #backward pass\n",
    "        l.backward()\n",
    "        #update weights\n",
    "        optim.step()\n",
    "        optim.zero_grad()\n",
    "        \n",
    "        if epochs%100 == 0:\n",
    "            print(f\"loss: {l.item()}\")\n",
    "        #if i % 1 == 0:\n",
    "            #print(f\" steps: {i+1}, loss : {l.item()}\")"
   ]
  },
  {
   "cell_type": "code",
   "execution_count": 12,
   "id": "dc3b13a7",
   "metadata": {},
   "outputs": [],
   "source": [
    "#X_test, test_labels = next(iter(test_loader))\n",
    "#test_labels = transform_label(test_labels)\n",
    "#x_label_predicted = model(X_test)\n",
    "#x_label_predicted, test_labels"
   ]
  },
  {
   "cell_type": "code",
   "execution_count": 13,
   "id": "286d7de3",
   "metadata": {},
   "outputs": [],
   "source": [
    "#_, x_label_predicted_hat = torch.max(x_label_predicted,1)\n",
    "#x_label_predicted_hat"
   ]
  },
  {
   "cell_type": "code",
   "execution_count": 14,
   "id": "009faddc",
   "metadata": {},
   "outputs": [],
   "source": [
    "def final_x(x_hat):\n",
    "    list_tensors = []\n",
    "    for i in x_hat:\n",
    "        print(i)\n",
    "        final_tensor = torch.zeros(1,3)\n",
    "        final_tensor[0:,i] = 1\n",
    "        list_tensors.append(final_tensor)\n",
    "    return torch.cat(list_tensors)\n",
    "    \n",
    "    # tensor[0:,1] = 4 to accses specific value "
   ]
  },
  {
   "cell_type": "code",
   "execution_count": 15,
   "id": "39b4c053",
   "metadata": {},
   "outputs": [],
   "source": [
    "#final_x = final_x(x_label_predicted_hat)"
   ]
  },
  {
   "cell_type": "code",
   "execution_count": 16,
   "id": "8ad2a7c1",
   "metadata": {},
   "outputs": [],
   "source": [
    "def get_accuracy(model_prediction, test_labels):\n",
    "    idx = 0\n",
    "    number_pred = 0\n",
    "    counter = 0\n",
    "    while idx < 10:\n",
    "        print(f\" \\n Tensor[{idx+1}]\")\n",
    "        for i in range(3):\n",
    "            print(f\"model: {model_prediction[idx][i].item()}, label: {test_labels[idx][i].item()}\")\n",
    "            if model_prediction[idx][i].item() == test_labels[idx][i].item():\n",
    "\n",
    "                counter += 1\n",
    "                if counter == 3:\n",
    "                    number_pred += 1\n",
    "        counter = 0\n",
    "          \n",
    "        idx +=1\n",
    "    accuracy = number_pred/10 *100\n",
    "    return print(f\"\\naccuracy of model {number_pred/10 *100}%\")"
   ]
  },
  {
   "cell_type": "code",
   "execution_count": 17,
   "id": "ccc3bb92",
   "metadata": {},
   "outputs": [],
   "source": [
    "#get_accuracy(final_x, test_labels)"
   ]
  },
  {
   "cell_type": "code",
   "execution_count": 21,
   "id": "78f3c392",
   "metadata": {},
   "outputs": [
    {
     "name": "stdout",
     "output_type": "stream",
     "text": [
      "accuracy per batch 0:\n",
      "40.0%\n",
      "accuracy per batch 1:\n",
      "50.0%\n",
      "accuracy per batch 2:\n",
      "40.0%\n",
      "\n",
      "total accuracy of model 43.33%\n"
     ]
    }
   ],
   "source": [
    "#test_loader = DataLoader(test_dataset, batch_size=10, shuffle=True)\n",
    "import accuracy_model as ac\n",
    "test_model_acc = ac.data_loader\n",
    "test_model_acc.accuracy(model, test_loader, batch_size=10)"
   ]
  },
  {
   "cell_type": "code",
   "execution_count": 19,
   "id": "a0ceab23",
   "metadata": {},
   "outputs": [],
   "source": [
    "# save model \n",
    "#torch.save(model.state_dict(), \"./model\")"
   ]
  },
  {
   "cell_type": "code",
   "execution_count": null,
   "id": "13ddf8bd",
   "metadata": {},
   "outputs": [],
   "source": []
  },
  {
   "cell_type": "code",
   "execution_count": null,
   "id": "c304fcfe",
   "metadata": {},
   "outputs": [],
   "source": []
  }
 ],
 "metadata": {
  "kernelspec": {
   "display_name": "Python 3 (ipykernel)",
   "language": "python",
   "name": "python3"
  },
  "language_info": {
   "codemirror_mode": {
    "name": "ipython",
    "version": 3
   },
   "file_extension": ".py",
   "mimetype": "text/x-python",
   "name": "python",
   "nbconvert_exporter": "python",
   "pygments_lexer": "ipython3",
   "version": "3.10.8"
  }
 },
 "nbformat": 4,
 "nbformat_minor": 5
}
