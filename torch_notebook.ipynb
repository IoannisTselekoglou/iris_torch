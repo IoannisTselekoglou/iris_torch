{
 "cells": [
  {
   "cell_type": "code",
   "execution_count": 1,
   "id": "7a178dfa",
   "metadata": {},
   "outputs": [],
   "source": [
    "import os\n",
    "import pandas as pd\n",
    "import torch\n",
    "import torch.nn as nn\n",
    "from torch.utils.data import Dataset\n",
    "from torch.utils.data import DataLoader\n",
    "import torch"
   ]
  },
  {
   "cell_type": "code",
   "execution_count": 2,
   "id": "e900c8fd",
   "metadata": {},
   "outputs": [],
   "source": [
    "#create custom data class\n",
    "\n",
    "class CustomDataset(Dataset):\n",
    "    def __init__(self,low_idx,high_idx):\n",
    "        self.data = pd.read_csv(\"./dataset/IRIS.csv\", sep=\",\", skiprows=range(low_idx,high_idx), header=1)\n",
    "        \n",
    "    def __len__(self):\n",
    "        return len(self.data)\n",
    "\n",
    "    def __getitem__(self, idx):\n",
    "        sepal_length = torch.tensor(self.data.iloc[idx, 0])\n",
    "        sepal_width = self.data.iloc[idx, 1]\n",
    "        petal_length = self.data.iloc[idx, 2]\n",
    "        petal_width = self.data.iloc[idx, 3] \n",
    "        label = self.data.iloc[idx, 4]\n",
    "        \n",
    "        tensor_data = torch.tensor([sepal_length,sepal_width,sepal_width,sepal_width],dtype=torch.float32)\n",
    "        \n",
    "        return tensor_data , label"
   ]
  },
  {
   "cell_type": "code",
   "execution_count": 3,
   "id": "48179a86",
   "metadata": {},
   "outputs": [],
   "source": [
    "#just my afwull way to seperate training and testing dataset\n",
    "# 80% training , 20% Test\n",
    "\n",
    "train_dataset = CustomDataset(120,149)\n",
    "test_dataset = CustomDataset(1,120)\n"
   ]
  },
  {
   "cell_type": "code",
   "execution_count": 4,
   "id": "2505e107",
   "metadata": {},
   "outputs": [],
   "source": [
    "#create train_dataloader and test_dataloader\n",
    "# 80% for training, 20% of data for testing -> 149*0.8 = 119.2 -> 120 , 29\n",
    "train_loader = DataLoader(train_dataset, batch_size=10, shuffle=True) \n",
    "test_loader = DataLoader(test_dataset, batch_size=10, shuffle=True)\n"
   ]
  },
  {
   "cell_type": "code",
   "execution_count": 5,
   "id": "6c5883ec",
   "metadata": {},
   "outputs": [],
   "source": [
    "#4 inputs and 3  outputs \n",
    "class NeuralNetwork(nn.Module):\n",
    "    def __init__(self):\n",
    "        super().__init__()\n",
    "        self.linear_stack =  nn.Sequential(\n",
    "         nn.Linear(4,128),\n",
    "         nn.ReLU(),\n",
    "         nn.Linear(128,64),\n",
    "         nn.ReLU(),\n",
    "         nn.Linear(64,3),\n",
    "         )\n",
    "    def forward(self, x):\n",
    "        logits = self.linear_stack(x)\n",
    "        return logits"
   ]
  },
  {
   "cell_type": "code",
   "execution_count": 6,
   "id": "ae5c52d0",
   "metadata": {},
   "outputs": [],
   "source": [
    "#map labels into tensor of shape [1, 0, 0]\n",
    "def transform_label(label_data):\n",
    "    data = []\n",
    "    for i in label_data:\n",
    "        if i == \"Iris-setosa\":\n",
    "            data.append(torch.tensor([1,0,0], dtype=torch.float32))\n",
    "        elif i == \"Iris-versicolor\": \n",
    "            data.append(torch.tensor([0,1,0], dtype=torch.float32))\n",
    "        else:\n",
    "            data.append(torch.tensor([0,0,1], dtype=torch.float32))\n",
    "    return torch.stack(data)"
   ]
  },
  {
   "cell_type": "code",
   "execution_count": 7,
   "id": "650fee92",
   "metadata": {},
   "outputs": [
    {
     "data": {
      "text/plain": [
       "(torch.Size([10, 4]), torch.Size([10, 3]), torch.float32, torch.float32)"
      ]
     },
     "execution_count": 7,
     "metadata": {},
     "output_type": "execute_result"
    }
   ],
   "source": [
    "#train_labels, X_train = next(iter(train_loader))\n",
    "X_train, train_labels = next(iter(train_loader))\n",
    "train_labels = transform_label(train_labels)\n",
    "X_train.shape, train_labels.shape, X_train.dtype, train_labels.dtype"
   ]
  },
  {
   "cell_type": "code",
   "execution_count": 8,
   "id": "ec8e71ce",
   "metadata": {},
   "outputs": [
    {
     "data": {
      "text/plain": [
       "tensor([[4.9000, 2.5000, 2.5000, 2.5000],\n",
       "        [5.4000, 3.4000, 3.4000, 3.4000],\n",
       "        [5.7000, 2.9000, 2.9000, 2.9000],\n",
       "        [6.6000, 2.9000, 2.9000, 2.9000],\n",
       "        [5.7000, 2.8000, 2.8000, 2.8000],\n",
       "        [5.1000, 3.8000, 3.8000, 3.8000],\n",
       "        [7.2000, 3.6000, 3.6000, 3.6000],\n",
       "        [5.1000, 3.8000, 3.8000, 3.8000],\n",
       "        [6.2000, 2.9000, 2.9000, 2.9000],\n",
       "        [5.4000, 3.0000, 3.0000, 3.0000]])"
      ]
     },
     "execution_count": 8,
     "metadata": {},
     "output_type": "execute_result"
    }
   ],
   "source": [
    "X_train"
   ]
  },
  {
   "cell_type": "code",
   "execution_count": 9,
   "id": "73605888",
   "metadata": {},
   "outputs": [
    {
     "data": {
      "text/plain": [
       "tensor([[0., 0., 1.],\n",
       "        [1., 0., 0.],\n",
       "        [0., 1., 0.],\n",
       "        [0., 1., 0.],\n",
       "        [0., 1., 0.],\n",
       "        [1., 0., 0.],\n",
       "        [0., 0., 1.],\n",
       "        [1., 0., 0.],\n",
       "        [0., 1., 0.],\n",
       "        [0., 1., 0.]])"
      ]
     },
     "execution_count": 9,
     "metadata": {},
     "output_type": "execute_result"
    }
   ],
   "source": [
    "train_labels"
   ]
  },
  {
   "cell_type": "code",
   "execution_count": 10,
   "id": "8edbb367",
   "metadata": {},
   "outputs": [],
   "source": [
    "#create model\n",
    "lr = 0.01\n",
    "model = NeuralNetwork()\n",
    "optim = torch.optim.Adam(model.parameters(), lr=lr)\n",
    "loss = torch.nn.CrossEntropyLoss()\n",
    "#Weights are by default torch.32 not 64 --> error message "
   ]
  },
  {
   "cell_type": "code",
   "execution_count": 11,
   "id": "f80d9161",
   "metadata": {
    "scrolled": true
   },
   "outputs": [
    {
     "name": "stdout",
     "output_type": "stream",
     "text": [
      "\n",
      " epochs: 1/10 \n",
      "\n",
      " steps: 1, loss : 1.2101413011550903\n",
      " steps: 2, loss : 1.2012776136398315\n",
      " steps: 3, loss : 1.1544098854064941\n",
      " steps: 4, loss : 1.1238055229187012\n",
      " steps: 5, loss : 1.0931551456451416\n",
      " steps: 6, loss : 0.8755502700805664\n",
      " steps: 7, loss : 0.8547183871269226\n",
      " steps: 8, loss : 0.7368665933609009\n",
      " steps: 9, loss : 1.287074327468872\n",
      " steps: 10, loss : 1.5251169204711914\n",
      " steps: 11, loss : 0.6588473320007324\n",
      " steps: 12, loss : 0.8195764422416687\n",
      "\n",
      " epochs: 2/10 \n",
      "\n",
      " steps: 1, loss : 0.6243541240692139\n",
      " steps: 2, loss : 0.5123398900032043\n",
      " steps: 3, loss : 0.4553864598274231\n",
      " steps: 4, loss : 0.49558600783348083\n",
      " steps: 5, loss : 0.8610669374465942\n",
      " steps: 6, loss : 0.35583755373954773\n",
      " steps: 7, loss : 1.0581166744232178\n",
      " steps: 8, loss : 0.721039891242981\n",
      " steps: 9, loss : 0.751634955406189\n",
      " steps: 10, loss : 0.5298471450805664\n",
      " steps: 11, loss : 0.6286306977272034\n",
      " steps: 12, loss : 0.6789177656173706\n",
      "\n",
      " epochs: 3/10 \n",
      "\n",
      " steps: 1, loss : 0.47378215193748474\n",
      " steps: 2, loss : 0.38687261939048767\n",
      " steps: 3, loss : 0.5405534505844116\n",
      " steps: 4, loss : 0.354413241147995\n",
      " steps: 5, loss : 0.49810510873794556\n",
      " steps: 6, loss : 0.40801721811294556\n",
      " steps: 7, loss : 0.6048118472099304\n",
      " steps: 8, loss : 0.5448032021522522\n",
      " steps: 9, loss : 0.5662106275558472\n",
      " steps: 10, loss : 0.5281897783279419\n",
      " steps: 11, loss : 0.3302593231201172\n",
      " steps: 12, loss : 0.4028257727622986\n",
      "\n",
      " epochs: 4/10 \n",
      "\n",
      " steps: 1, loss : 0.20314231514930725\n",
      " steps: 2, loss : 0.5513034462928772\n",
      " steps: 3, loss : 0.9277219772338867\n",
      " steps: 4, loss : 0.12021454423666\n",
      " steps: 5, loss : 1.2478423118591309\n",
      " steps: 6, loss : 1.0693317651748657\n",
      " steps: 7, loss : 0.39547595381736755\n",
      " steps: 8, loss : 0.21333745121955872\n",
      " steps: 9, loss : 0.33695897459983826\n",
      " steps: 10, loss : 0.5283328294754028\n",
      " steps: 11, loss : 0.22584111988544464\n",
      " steps: 12, loss : 0.4863697588443756\n",
      "\n",
      " epochs: 5/10 \n",
      "\n",
      " steps: 1, loss : 0.39045971632003784\n",
      " steps: 2, loss : 0.4124220013618469\n",
      " steps: 3, loss : 0.62716144323349\n",
      " steps: 4, loss : 0.35463792085647583\n",
      " steps: 5, loss : 0.6534463167190552\n",
      " steps: 6, loss : 0.23257777094841003\n",
      " steps: 7, loss : 0.5467877388000488\n",
      " steps: 8, loss : 0.4911894202232361\n",
      " steps: 9, loss : 0.32971417903900146\n",
      " steps: 10, loss : 0.6040924191474915\n",
      " steps: 11, loss : 0.23262901604175568\n",
      " steps: 12, loss : 0.5008200407028198\n",
      "\n",
      " epochs: 6/10 \n",
      "\n",
      " steps: 1, loss : 0.3283810615539551\n",
      " steps: 2, loss : 0.6124117374420166\n",
      " steps: 3, loss : 0.39678484201431274\n",
      " steps: 4, loss : 0.9489650726318359\n",
      " steps: 5, loss : 0.24861197173595428\n",
      " steps: 6, loss : 0.33345094323158264\n",
      " steps: 7, loss : 0.5463762879371643\n",
      " steps: 8, loss : 0.5948547720909119\n",
      " steps: 9, loss : 0.3045184910297394\n",
      " steps: 10, loss : 0.3500307500362396\n",
      " steps: 11, loss : 0.3675955533981323\n",
      " steps: 12, loss : 0.3021315038204193\n",
      "\n",
      " epochs: 7/10 \n",
      "\n",
      " steps: 1, loss : 0.18641820549964905\n",
      " steps: 2, loss : 0.30413737893104553\n",
      " steps: 3, loss : 0.388206422328949\n",
      " steps: 4, loss : 0.46896442770957947\n",
      " steps: 5, loss : 0.6807381510734558\n",
      " steps: 6, loss : 0.48697060346603394\n",
      " steps: 7, loss : 0.2484486848115921\n",
      " steps: 8, loss : 0.5186933279037476\n",
      " steps: 9, loss : 0.5198057293891907\n",
      " steps: 10, loss : 0.7014814019203186\n",
      " steps: 11, loss : 0.4453040659427643\n",
      " steps: 12, loss : 0.30105021595954895\n",
      "\n",
      " epochs: 8/10 \n",
      "\n",
      " steps: 1, loss : 0.5498074293136597\n",
      " steps: 2, loss : 0.7278248071670532\n",
      " steps: 3, loss : 0.4427502751350403\n",
      " steps: 4, loss : 0.29403334856033325\n",
      " steps: 5, loss : 0.15035423636436462\n",
      " steps: 6, loss : 0.2862239480018616\n",
      " steps: 7, loss : 0.4679020047187805\n",
      " steps: 8, loss : 0.4784579873085022\n",
      " steps: 9, loss : 0.4065677225589752\n",
      " steps: 10, loss : 1.1618413925170898\n",
      " steps: 11, loss : 0.31848764419555664\n",
      " steps: 12, loss : 0.5356940031051636\n",
      "\n",
      " epochs: 9/10 \n",
      "\n",
      " steps: 1, loss : 0.2519147992134094\n",
      " steps: 2, loss : 0.28254109621047974\n",
      " steps: 3, loss : 0.5195493102073669\n",
      " steps: 4, loss : 1.0726336240768433\n",
      " steps: 5, loss : 0.4367341995239258\n",
      " steps: 6, loss : 0.18856874108314514\n",
      " steps: 7, loss : 0.40391677618026733\n",
      " steps: 8, loss : 0.30390629172325134\n",
      " steps: 9, loss : 0.877717137336731\n",
      " steps: 10, loss : 0.7199279069900513\n",
      " steps: 11, loss : 0.34840089082717896\n",
      " steps: 12, loss : 0.4297563433647156\n",
      "\n",
      " epochs: 10/10 \n",
      "\n",
      " steps: 1, loss : 0.34391090273857117\n",
      " steps: 2, loss : 0.39527463912963867\n",
      " steps: 3, loss : 0.34030863642692566\n",
      " steps: 4, loss : 0.3927389979362488\n",
      " steps: 5, loss : 0.24522225558757782\n",
      " steps: 6, loss : 0.7684043645858765\n",
      " steps: 7, loss : 0.5991183519363403\n",
      " steps: 8, loss : 0.6461473107337952\n",
      " steps: 9, loss : 0.2605539858341217\n",
      " steps: 10, loss : 0.5126842260360718\n",
      " steps: 11, loss : 0.27434417605400085\n",
      " steps: 12, loss : 0.3467201590538025\n"
     ]
    }
   ],
   "source": [
    "n_iters = 10\n",
    "for epochs in range(n_iters):\n",
    "    #forward pass and loss\n",
    "    #test_labels, X_test = next(iter(test_loader))\n",
    "    print(f\"\\n epochs: {epochs+1}/{n_iters} \\n\")\n",
    "    for i,(inputs, labels) in enumerate(train_loader):\n",
    "        out = model(inputs)\n",
    "        train_labels = transform_label(labels)\n",
    "        l = loss(out, train_labels)\n",
    "        #backward pass\n",
    "        l.backward()\n",
    "        #update weights\n",
    "        optim.step()\n",
    "        optim.zero_grad()\n",
    "    \n",
    "        if i % 1 == 0:\n",
    "            print(f\" steps: {i+1}, loss : {l.item()}\")"
   ]
  },
  {
   "cell_type": "code",
   "execution_count": 12,
   "id": "5657a8f1",
   "metadata": {},
   "outputs": [],
   "source": [
    "input_test = torch.tensor([4.9,3.1,1.5,0.1])"
   ]
  },
  {
   "cell_type": "code",
   "execution_count": 13,
   "id": "1550545c",
   "metadata": {},
   "outputs": [
    {
     "data": {
      "text/plain": [
       "tensor([-3.7291,  1.9326,  1.3174], grad_fn=<AddBackward0>)"
      ]
     },
     "execution_count": 13,
     "metadata": {},
     "output_type": "execute_result"
    }
   ],
   "source": [
    "model(input_test)"
   ]
  },
  {
   "cell_type": "code",
   "execution_count": null,
   "id": "57a9ecaf",
   "metadata": {},
   "outputs": [],
   "source": []
  },
  {
   "cell_type": "code",
   "execution_count": 14,
   "id": "dc3b13a7",
   "metadata": {},
   "outputs": [],
   "source": [
    "test_loader = DataLoader(test_dataset, batch_size=10, shuffle=True)\n",
    "X_test, test_labels = next(iter(train_loader))\n",
    "test_labels = transform_label(test_labels)"
   ]
  },
  {
   "cell_type": "code",
   "execution_count": 15,
   "id": "d6085928",
   "metadata": {},
   "outputs": [],
   "source": [
    "x_label_predicted = model(X_test)"
   ]
  },
  {
   "cell_type": "code",
   "execution_count": 16,
   "id": "16e96f00",
   "metadata": {},
   "outputs": [
    {
     "data": {
      "text/plain": [
       "tensor([[-3.0981,  1.6812,  1.0963],\n",
       "        [-4.1906,  2.2157,  1.5601],\n",
       "        [-3.3776,  1.8180,  1.2103],\n",
       "        [ 4.3282, -1.1395, -2.4044],\n",
       "        [-3.1913,  1.7268,  1.1343],\n",
       "        [-4.2353,  2.2379,  1.5759],\n",
       "        [-4.1975,  2.2177,  1.5731],\n",
       "        [ 3.8486, -0.9979, -2.1862],\n",
       "        [-1.8436,  1.0771,  0.5752],\n",
       "        [ 2.5256, -0.5872, -1.5666]], grad_fn=<AddmmBackward0>)"
      ]
     },
     "execution_count": 16,
     "metadata": {},
     "output_type": "execute_result"
    }
   ],
   "source": [
    "x_label_predicted"
   ]
  },
  {
   "cell_type": "code",
   "execution_count": 17,
   "id": "286d7de3",
   "metadata": {},
   "outputs": [],
   "source": [
    "_, x_label_predicted_hat = torch.max(x_label_predicted,1)"
   ]
  },
  {
   "cell_type": "code",
   "execution_count": 18,
   "id": "eb41aac7",
   "metadata": {},
   "outputs": [
    {
     "data": {
      "text/plain": [
       "tensor([1, 1, 1, 0, 1, 1, 1, 0, 1, 0])"
      ]
     },
     "execution_count": 18,
     "metadata": {},
     "output_type": "execute_result"
    }
   ],
   "source": [
    "x_label_predicted_hat"
   ]
  },
  {
   "cell_type": "code",
   "execution_count": 19,
   "id": "009faddc",
   "metadata": {},
   "outputs": [],
   "source": [
    "def final_x(x_hat):\n",
    "    list_tensors = []\n",
    "    for i in x_hat:\n",
    "        final_tensor = torch.zeros(1,3)\n",
    "        final_tensor[0:,i] = 1\n",
    "        list_tensors.append(final_tensor)\n",
    "    return torch.cat(list_tensors)\n",
    "    \n",
    "    # tensor[0:,1] = 4 to accses specific value "
   ]
  },
  {
   "cell_type": "code",
   "execution_count": 20,
   "id": "39b4c053",
   "metadata": {},
   "outputs": [],
   "source": [
    "final_x = final_x(x_label_predicted_hat)"
   ]
  },
  {
   "cell_type": "code",
   "execution_count": 21,
   "id": "4e92e27c",
   "metadata": {},
   "outputs": [],
   "source": [
    "#final_x, test_labels\n",
    "#print(f\"{})"
   ]
  },
  {
   "cell_type": "code",
   "execution_count": 22,
   "id": "8ad2a7c1",
   "metadata": {},
   "outputs": [],
   "source": [
    "def get_accuracy(model_prediction, test_labels):\n",
    "    idx = 0\n",
    "    number_pred = 0\n",
    "    counter = 0\n",
    "    while idx < 10:\n",
    "        print(f\" \\n Tensor[{idx+1}]\")\n",
    "        for i in range(3):\n",
    "            print(f\"model: {model_prediction[idx][i].item()}, label: {test_labels[idx][i].item()}\")\n",
    "            if model_prediction[idx][i].item() == test_labels[idx][i].item():\n",
    "\n",
    "                counter += 1\n",
    "                if counter == 3:\n",
    "                    number_pred += 1\n",
    "        counter = 0\n",
    "          \n",
    "        idx +=1\n",
    "    accuracy = number_pred/10 *100\n",
    "    return print(f\"\\naccuracy of model {number_pred/10 *100}%\")"
   ]
  },
  {
   "cell_type": "code",
   "execution_count": 23,
   "id": "ccc3bb92",
   "metadata": {},
   "outputs": [
    {
     "name": "stdout",
     "output_type": "stream",
     "text": [
      " \n",
      " Tensor[1]\n",
      "model: 0.0, label: 0.0\n",
      "model: 1.0, label: 1.0\n",
      "model: 0.0, label: 0.0\n",
      " \n",
      " Tensor[2]\n",
      "model: 0.0, label: 0.0\n",
      "model: 1.0, label: 1.0\n",
      "model: 0.0, label: 0.0\n",
      " \n",
      " Tensor[3]\n",
      "model: 0.0, label: 0.0\n",
      "model: 1.0, label: 1.0\n",
      "model: 0.0, label: 0.0\n",
      " \n",
      " Tensor[4]\n",
      "model: 1.0, label: 1.0\n",
      "model: 0.0, label: 0.0\n",
      "model: 0.0, label: 0.0\n",
      " \n",
      " Tensor[5]\n",
      "model: 0.0, label: 0.0\n",
      "model: 1.0, label: 1.0\n",
      "model: 0.0, label: 0.0\n",
      " \n",
      " Tensor[6]\n",
      "model: 0.0, label: 0.0\n",
      "model: 1.0, label: 0.0\n",
      "model: 0.0, label: 1.0\n",
      " \n",
      " Tensor[7]\n",
      "model: 0.0, label: 0.0\n",
      "model: 1.0, label: 1.0\n",
      "model: 0.0, label: 0.0\n",
      " \n",
      " Tensor[8]\n",
      "model: 1.0, label: 1.0\n",
      "model: 0.0, label: 0.0\n",
      "model: 0.0, label: 0.0\n",
      " \n",
      " Tensor[9]\n",
      "model: 0.0, label: 0.0\n",
      "model: 1.0, label: 1.0\n",
      "model: 0.0, label: 0.0\n",
      " \n",
      " Tensor[10]\n",
      "model: 1.0, label: 1.0\n",
      "model: 0.0, label: 0.0\n",
      "model: 0.0, label: 0.0\n",
      "\n",
      "accuracy of model 90.0%\n"
     ]
    }
   ],
   "source": [
    "get_accuracy(final_x, test_labels)"
   ]
  },
  {
   "cell_type": "code",
   "execution_count": 25,
   "id": "78f3c392",
   "metadata": {},
   "outputs": [
    {
     "name": "stdout",
     "output_type": "stream",
     "text": [
      " \n",
      " Tensor[1]\n",
      "model: 0.0, label: 0.0\n",
      "model: 1.0, label: 0.0\n",
      "model: 0.0, label: 1.0\n",
      " \n",
      " Tensor[2]\n",
      "model: 0.0, label: 0.0\n",
      "model: 1.0, label: 0.0\n",
      "model: 0.0, label: 1.0\n",
      " \n",
      " Tensor[3]\n",
      "model: 0.0, label: 0.0\n",
      "model: 1.0, label: 0.0\n",
      "model: 0.0, label: 1.0\n",
      " \n",
      " Tensor[4]\n",
      "model: 0.0, label: 0.0\n",
      "model: 1.0, label: 0.0\n",
      "model: 0.0, label: 1.0\n",
      " \n",
      " Tensor[5]\n",
      "model: 0.0, label: 0.0\n",
      "model: 1.0, label: 0.0\n",
      "model: 0.0, label: 1.0\n",
      " \n",
      " Tensor[6]\n",
      "model: 0.0, label: 0.0\n",
      "model: 1.0, label: 0.0\n",
      "model: 0.0, label: 1.0\n",
      " \n",
      " Tensor[7]\n",
      "model: 0.0, label: 0.0\n",
      "model: 1.0, label: 0.0\n",
      "model: 0.0, label: 1.0\n",
      " \n",
      " Tensor[8]\n",
      "model: 0.0, label: 0.0\n",
      "model: 1.0, label: 0.0\n",
      "model: 0.0, label: 1.0\n",
      " \n",
      " Tensor[9]\n",
      "model: 0.0, label: 0.0\n",
      "model: 1.0, label: 0.0\n",
      "model: 0.0, label: 1.0\n",
      " \n",
      " Tensor[10]\n",
      "model: 0.0, label: 0.0\n",
      "model: 1.0, label: 0.0\n",
      "model: 0.0, label: 1.0\n",
      " \n",
      " Tensor[1]\n",
      "model: 0.0, label: 0.0\n",
      "model: 1.0, label: 0.0\n",
      "model: 0.0, label: 1.0\n",
      " \n",
      " Tensor[2]\n",
      "model: 0.0, label: 0.0\n",
      "model: 1.0, label: 0.0\n",
      "model: 0.0, label: 1.0\n",
      " \n",
      " Tensor[3]\n",
      "model: 0.0, label: 0.0\n",
      "model: 1.0, label: 0.0\n",
      "model: 0.0, label: 1.0\n",
      " \n",
      " Tensor[4]\n",
      "model: 0.0, label: 0.0\n",
      "model: 1.0, label: 0.0\n",
      "model: 0.0, label: 1.0\n",
      " \n",
      " Tensor[5]\n",
      "model: 0.0, label: 0.0\n",
      "model: 1.0, label: 0.0\n",
      "model: 0.0, label: 1.0\n",
      " \n",
      " Tensor[6]\n",
      "model: 0.0, label: 0.0\n",
      "model: 1.0, label: 0.0\n",
      "model: 0.0, label: 1.0\n",
      " \n",
      " Tensor[7]\n",
      "model: 0.0, label: 0.0\n",
      "model: 1.0, label: 0.0\n",
      "model: 0.0, label: 1.0\n",
      " \n",
      " Tensor[8]\n",
      "model: 0.0, label: 0.0\n",
      "model: 1.0, label: 0.0\n",
      "model: 0.0, label: 1.0\n",
      " \n",
      " Tensor[9]\n",
      "model: 0.0, label: 0.0\n",
      "model: 1.0, label: 0.0\n",
      "model: 0.0, label: 1.0\n",
      " \n",
      " Tensor[10]\n",
      "model: 0.0, label: 0.0\n",
      "model: 1.0, label: 0.0\n",
      "model: 0.0, label: 1.0\n",
      " \n",
      " Tensor[1]\n",
      "model: 0.0, label: 0.0\n",
      "model: 1.0, label: 0.0\n",
      "model: 0.0, label: 1.0\n",
      " \n",
      " Tensor[2]\n",
      "model: 0.0, label: 0.0\n",
      "model: 1.0, label: 0.0\n",
      "model: 0.0, label: 1.0\n",
      " \n",
      " Tensor[3]\n",
      "model: 0.0, label: 0.0\n",
      "model: 1.0, label: 0.0\n",
      "model: 0.0, label: 1.0\n",
      " \n",
      " Tensor[4]\n",
      "model: 0.0, label: 0.0\n",
      "model: 1.0, label: 0.0\n",
      "model: 0.0, label: 1.0\n",
      " \n",
      " Tensor[5]\n",
      "model: 0.0, label: 0.0\n",
      "model: 1.0, label: 0.0\n",
      "model: 0.0, label: 1.0\n",
      " \n",
      " Tensor[6]\n",
      "model: 0.0, label: 0.0\n",
      "model: 1.0, label: 0.0\n",
      "model: 0.0, label: 1.0\n",
      " \n",
      " Tensor[7]\n",
      "model: 0.0, label: 0.0\n",
      "model: 1.0, label: 0.0\n",
      "model: 0.0, label: 1.0\n",
      " \n",
      " Tensor[8]\n",
      "model: 0.0, label: 0.0\n",
      "model: 1.0, label: 0.0\n",
      "model: 0.0, label: 1.0\n",
      " \n",
      " Tensor[9]\n",
      "model: 0.0, label: 0.0\n",
      "model: 1.0, label: 0.0\n",
      "model: 0.0, label: 1.0\n",
      " \n",
      " Tensor[10]\n",
      "model: 0.0, label: 0.0\n",
      "model: 1.0, label: 0.0\n",
      "model: 0.0, label: 1.0\n"
     ]
    },
    {
     "ename": "UnboundLocalError",
     "evalue": "local variable 'summe' referenced before assignment",
     "output_type": "error",
     "traceback": [
      "\u001b[0;31m---------------------------------------------------------------------------\u001b[0m",
      "\u001b[0;31mUnboundLocalError\u001b[0m                         Traceback (most recent call last)",
      "Cell \u001b[0;32mIn [25], line 3\u001b[0m\n\u001b[1;32m      1\u001b[0m \u001b[38;5;28;01mimport\u001b[39;00m \u001b[38;5;21;01maccuracy_model\u001b[39;00m \u001b[38;5;28;01mas\u001b[39;00m \u001b[38;5;21;01mac\u001b[39;00m\n\u001b[1;32m      2\u001b[0m test_model_acc \u001b[38;5;241m=\u001b[39m ac\u001b[38;5;241m.\u001b[39mdata_loader\n\u001b[0;32m----> 3\u001b[0m \u001b[43mtest_model_acc\u001b[49m\u001b[38;5;241;43m.\u001b[39;49m\u001b[43maccuracy\u001b[49m\u001b[43m(\u001b[49m\u001b[43mmodel\u001b[49m\u001b[43m,\u001b[49m\u001b[43m \u001b[49m\u001b[43mtest_dataset\u001b[49m\u001b[43m,\u001b[49m\u001b[43m \u001b[49m\u001b[43mbatch_size\u001b[49m\u001b[38;5;241;43m=\u001b[39;49m\u001b[38;5;241;43m10\u001b[39;49m\u001b[43m)\u001b[49m\n",
      "File \u001b[0;32m~/python_projects/iris_torch/accuracy_model.py:54\u001b[0m, in \u001b[0;36mdata_loader.accuracy\u001b[0;34m(model, test_dataset, batch_size)\u001b[0m\n\u001b[1;32m     52\u001b[0m         idx \u001b[38;5;241m+\u001b[39m\u001b[38;5;241m=\u001b[39m\u001b[38;5;241m1\u001b[39m\n\u001b[1;32m     53\u001b[0m     accuracy_per_epoch \u001b[38;5;241m=\u001b[39m number_pred\u001b[38;5;241m/\u001b[39m\u001b[38;5;241m10\u001b[39m \u001b[38;5;241m*\u001b[39m\u001b[38;5;241m100\u001b[39m\n\u001b[0;32m---> 54\u001b[0m summe \u001b[38;5;241m+\u001b[39m\u001b[38;5;241m=\u001b[39m accuracy_per_epoch\n\u001b[1;32m     55\u001b[0m \u001b[38;5;28;01mreturn\u001b[39;00m \u001b[38;5;28mprint\u001b[39m(\u001b[38;5;124mf\u001b[39m\u001b[38;5;124m\"\u001b[39m\u001b[38;5;130;01m\\n\u001b[39;00m\u001b[38;5;124maccuracy of model \u001b[39m\u001b[38;5;132;01m{\u001b[39;00msumme\u001b[38;5;241m/\u001b[39miters\u001b[38;5;132;01m}\u001b[39;00m\u001b[38;5;124m%\u001b[39m\u001b[38;5;124m\"\u001b[39m)\n",
      "\u001b[0;31mUnboundLocalError\u001b[0m: local variable 'summe' referenced before assignment"
     ]
    }
   ],
   "source": [
    "import accuracy_model as ac\n",
    "test_model_acc = ac.data_loader\n",
    "test_model_acc.accuracy(model, test_dataset, batch_size=10)"
   ]
  },
  {
   "cell_type": "code",
   "execution_count": null,
   "id": "a0ceab23",
   "metadata": {},
   "outputs": [],
   "source": [
    "# save model \n",
    "torch.save(model.state_dict(), \"./model\")"
   ]
  },
  {
   "cell_type": "code",
   "execution_count": null,
   "id": "a9baeb11",
   "metadata": {},
   "outputs": [],
   "source": []
  },
  {
   "cell_type": "code",
   "execution_count": null,
   "id": "62ddc70e",
   "metadata": {},
   "outputs": [],
   "source": []
  },
  {
   "cell_type": "code",
   "execution_count": null,
   "id": "13ddf8bd",
   "metadata": {},
   "outputs": [],
   "source": []
  }
 ],
 "metadata": {
  "kernelspec": {
   "display_name": "Python 3 (ipykernel)",
   "language": "python",
   "name": "python3"
  },
  "language_info": {
   "codemirror_mode": {
    "name": "ipython",
    "version": 3
   },
   "file_extension": ".py",
   "mimetype": "text/x-python",
   "name": "python",
   "nbconvert_exporter": "python",
   "pygments_lexer": "ipython3",
   "version": "3.10.8"
  }
 },
 "nbformat": 4,
 "nbformat_minor": 5
}
