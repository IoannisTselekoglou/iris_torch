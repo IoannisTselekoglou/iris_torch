{
 "cells": [
  {
   "cell_type": "code",
   "execution_count": 1,
   "id": "7a178dfa",
   "metadata": {},
   "outputs": [],
   "source": [
    "import os\n",
    "import pandas as pd\n",
    "import torch\n",
    "import torch.nn as nn\n",
    "from torch.utils.data import Dataset\n",
    "from torch.utils.data import DataLoader\n",
    "\n"
   ]
  },
  {
   "cell_type": "code",
   "execution_count": 2,
   "id": "e900c8fd",
   "metadata": {},
   "outputs": [],
   "source": [
    "#create custom data class\n",
    "\n",
    "class CustomDataset(Dataset):\n",
    "    def __init__(self,low_idx,high_idx):\n",
    "        self.data = pd.read_csv(\"./IRIS.csv.xls\", sep=\",\", skiprows=range(low_idx,high_idx), header=1)\n",
    "        \n",
    "    def __len__(self):\n",
    "        return len(self.data)\n",
    "\n",
    "    def __getitem__(self, idx):\n",
    "        sepal_length = torch.tensor(self.data.iloc[idx, 0])\n",
    "        sepal_width = self.data.iloc[idx, 1]\n",
    "        petal_length = self.data.iloc[idx, 2]\n",
    "        petal_width = self.data.iloc[idx, 3] \n",
    "        label = self.data.iloc[idx, 4]\n",
    "        \n",
    "        tensor_data = torch.tensor([sepal_length,sepal_width,sepal_width,sepal_width],dtype=torch.float32)\n",
    "        \n",
    "        return tensor_data , label"
   ]
  },
  {
   "cell_type": "code",
   "execution_count": 3,
   "id": "48179a86",
   "metadata": {},
   "outputs": [],
   "source": [
    "#just my afwull way to seperate training and testing dataset\n",
    "# 80% training , 20% Test\n",
    "\n",
    "train_dataset = CustomDataset(120,149)\n",
    "test_dataset = CustomDataset(1,120)\n"
   ]
  },
  {
   "cell_type": "code",
   "execution_count": 4,
   "id": "2505e107",
   "metadata": {},
   "outputs": [],
   "source": [
    "#create train_dataloader and test_dataloader\n",
    "# 80% for training, 20% of data for testing -> 149*0.8 = 119.2 -> 120 , 29\n",
    "train_loader = DataLoader(train_dataset, batch_size=10, shuffle=True) \n",
    "test_loader = DataLoader(test_dataset, batch_size=10, shuffle=True)"
   ]
  },
  {
   "cell_type": "code",
   "execution_count": 5,
   "id": "6c5883ec",
   "metadata": {},
   "outputs": [],
   "source": [
    "#4 inputs and 3  outputs \n",
    "class NeuralNetwork(nn.Module):\n",
    "    def __init__(self):\n",
    "        super().__init__()\n",
    "        self.linear_stack =  nn.Sequential(\n",
    "         nn.Linear(4,128),\n",
    "         nn.ReLU(),\n",
    "         nn.Linear(128,64),\n",
    "         nn.ReLU(),\n",
    "         nn.Linear(64,3),\n",
    "         )\n",
    "    def forward(self, x):\n",
    "        logits = self.linear_stack(x)\n",
    "        return logits"
   ]
  },
  {
   "cell_type": "code",
   "execution_count": 6,
   "id": "ae5c52d0",
   "metadata": {},
   "outputs": [],
   "source": [
    "#map labels into tensor of shape [1, 0, 0]\n",
    "def transform_label(label_data):\n",
    "    data = []\n",
    "    for i in label_data:\n",
    "        if i == \"Iris-setosa\":\n",
    "            data.append(torch.tensor([1,0,0], dtype=torch.float32))\n",
    "        elif i == \"Iris-versicolor\": \n",
    "            data.append(torch.tensor([0,1,0], dtype=torch.float32))\n",
    "        else:\n",
    "            data.append(torch.tensor([0,0,1], dtype=torch.float32))\n",
    "    return torch.stack(data)"
   ]
  },
  {
   "cell_type": "code",
   "execution_count": 7,
   "id": "650fee92",
   "metadata": {},
   "outputs": [
    {
     "data": {
      "text/plain": [
       "(torch.Size([10, 4]), torch.Size([10, 3]), torch.float32, torch.float32)"
      ]
     },
     "execution_count": 7,
     "metadata": {},
     "output_type": "execute_result"
    }
   ],
   "source": [
    "#train_labels, X_train = next(iter(train_loader))\n",
    "X_train, train_labels = next(iter(train_loader))\n",
    "train_labels = transform_label(train_labels)\n",
    "X_train.shape, train_labels.shape, X_train.dtype, train_labels.dtype"
   ]
  },
  {
   "cell_type": "code",
   "execution_count": 8,
   "id": "ec8e71ce",
   "metadata": {},
   "outputs": [
    {
     "data": {
      "text/plain": [
       "tensor([[7.7000, 3.8000, 3.8000, 3.8000],\n",
       "        [6.4000, 2.9000, 2.9000, 2.9000],\n",
       "        [5.5000, 3.5000, 3.5000, 3.5000],\n",
       "        [4.5000, 2.3000, 2.3000, 2.3000],\n",
       "        [5.2000, 3.5000, 3.5000, 3.5000],\n",
       "        [6.6000, 3.0000, 3.0000, 3.0000],\n",
       "        [5.6000, 3.0000, 3.0000, 3.0000],\n",
       "        [6.7000, 3.1000, 3.1000, 3.1000],\n",
       "        [4.8000, 3.1000, 3.1000, 3.1000],\n",
       "        [6.1000, 2.8000, 2.8000, 2.8000]])"
      ]
     },
     "execution_count": 8,
     "metadata": {},
     "output_type": "execute_result"
    }
   ],
   "source": [
    "X_train"
   ]
  },
  {
   "cell_type": "code",
   "execution_count": 9,
   "id": "73605888",
   "metadata": {},
   "outputs": [
    {
     "data": {
      "text/plain": [
       "tensor([[0., 0., 1.],\n",
       "        [0., 1., 0.],\n",
       "        [1., 0., 0.],\n",
       "        [1., 0., 0.],\n",
       "        [1., 0., 0.],\n",
       "        [0., 1., 0.],\n",
       "        [0., 1., 0.],\n",
       "        [0., 1., 0.],\n",
       "        [1., 0., 0.],\n",
       "        [0., 1., 0.]])"
      ]
     },
     "execution_count": 9,
     "metadata": {},
     "output_type": "execute_result"
    }
   ],
   "source": [
    "train_labels"
   ]
  },
  {
   "cell_type": "code",
   "execution_count": 10,
   "id": "8edbb367",
   "metadata": {},
   "outputs": [],
   "source": [
    "#create model\n",
    "lr = 0.01\n",
    "model = NeuralNetwork()\n",
    "optim = torch.optim.Adam(model.parameters(), lr=lr)\n",
    "loss = torch.nn.CrossEntropyLoss()\n",
    "#Weights are by default torch.32 not 64 --> error message "
   ]
  },
  {
   "cell_type": "code",
   "execution_count": 23,
   "id": "f80d9161",
   "metadata": {
    "scrolled": true
   },
   "outputs": [
    {
     "name": "stdout",
     "output_type": "stream",
     "text": [
      "\n",
      " epochs: 1/12 \n",
      "\n",
      " steps: 1, loss : 0.5263720750808716\n",
      " steps: 2, loss : 0.11929646879434586\n",
      " steps: 3, loss : 0.05268403887748718\n",
      " steps: 4, loss : 0.6870241761207581\n",
      " steps: 5, loss : 0.5492759346961975\n",
      " steps: 6, loss : 0.26037055253982544\n",
      " steps: 7, loss : 0.3575771450996399\n",
      " steps: 8, loss : 0.48591193556785583\n",
      " steps: 9, loss : 0.4868488907814026\n",
      " steps: 10, loss : 0.36501866579055786\n",
      " steps: 11, loss : 0.22247414290905\n",
      " steps: 12, loss : 0.5886343717575073\n",
      "\n",
      " epochs: 2/12 \n",
      "\n",
      " steps: 1, loss : 0.5818777084350586\n",
      " steps: 2, loss : 0.6087363958358765\n",
      " steps: 3, loss : 0.1646847426891327\n",
      " steps: 4, loss : 0.24342112243175507\n",
      " steps: 5, loss : 0.21152791380882263\n",
      " steps: 6, loss : 0.5987932085990906\n",
      " steps: 7, loss : 0.1915193349123001\n",
      " steps: 8, loss : 0.4551451802253723\n",
      " steps: 9, loss : 0.8736459612846375\n",
      " steps: 10, loss : 0.5212220549583435\n",
      " steps: 11, loss : 0.4451841711997986\n",
      " steps: 12, loss : 0.2829498052597046\n",
      "\n",
      " epochs: 3/12 \n",
      "\n",
      " steps: 1, loss : 0.2934994399547577\n",
      " steps: 2, loss : 0.41392645239830017\n",
      " steps: 3, loss : 0.6039972305297852\n",
      " steps: 4, loss : 0.6102264523506165\n",
      " steps: 5, loss : 0.5575286746025085\n",
      " steps: 6, loss : 0.16700105369091034\n",
      " steps: 7, loss : 0.20578262209892273\n",
      " steps: 8, loss : 0.5195554494857788\n",
      " steps: 9, loss : 0.3176531195640564\n",
      " steps: 10, loss : 0.22649136185646057\n",
      " steps: 11, loss : 0.23724789917469025\n",
      " steps: 12, loss : 0.3259807527065277\n",
      "\n",
      " epochs: 4/12 \n",
      "\n",
      " steps: 1, loss : 0.30433154106140137\n",
      " steps: 2, loss : 0.6838955283164978\n",
      " steps: 3, loss : 0.46935105323791504\n",
      " steps: 4, loss : 0.3635632395744324\n",
      " steps: 5, loss : 0.4206155240535736\n",
      " steps: 6, loss : 0.27405595779418945\n",
      " steps: 7, loss : 0.6091377139091492\n",
      " steps: 8, loss : 0.5157515406608582\n",
      " steps: 9, loss : 0.42729511857032776\n",
      " steps: 10, loss : 0.3411886692047119\n",
      " steps: 11, loss : 0.1726001352071762\n",
      " steps: 12, loss : 0.27557942271232605\n",
      "\n",
      " epochs: 5/12 \n",
      "\n",
      " steps: 1, loss : 0.6888235211372375\n",
      " steps: 2, loss : 0.4182518422603607\n",
      " steps: 3, loss : 0.34560665488243103\n",
      " steps: 4, loss : 0.6547201871871948\n",
      " steps: 5, loss : 0.25570663809776306\n",
      " steps: 6, loss : 0.24775207042694092\n",
      " steps: 7, loss : 0.2737782895565033\n",
      " steps: 8, loss : 0.139867901802063\n",
      " steps: 9, loss : 0.6678698658943176\n",
      " steps: 10, loss : 0.19386349618434906\n",
      " steps: 11, loss : 0.3655875623226166\n",
      " steps: 12, loss : 0.31369543075561523\n",
      "\n",
      " epochs: 6/12 \n",
      "\n",
      " steps: 1, loss : 0.38689032196998596\n",
      " steps: 2, loss : 0.292845219373703\n",
      " steps: 3, loss : 0.276197612285614\n",
      " steps: 4, loss : 0.43903645873069763\n",
      " steps: 5, loss : 0.44754815101623535\n",
      " steps: 6, loss : 0.3318638205528259\n",
      " steps: 7, loss : 0.4848322868347168\n",
      " steps: 8, loss : 0.2644939124584198\n",
      " steps: 9, loss : 0.3564257025718689\n",
      " steps: 10, loss : 0.25765329599380493\n",
      " steps: 11, loss : 0.16846022009849548\n",
      " steps: 12, loss : 0.5233300924301147\n",
      "\n",
      " epochs: 7/12 \n",
      "\n",
      " steps: 1, loss : 0.6045893430709839\n",
      " steps: 2, loss : 0.3655083179473877\n",
      " steps: 3, loss : 0.2347240149974823\n",
      " steps: 4, loss : 0.5223506689071655\n",
      " steps: 5, loss : 0.2848038077354431\n",
      " steps: 6, loss : 0.15827932953834534\n",
      " steps: 7, loss : 0.31929200887680054\n",
      " steps: 8, loss : 0.2664497196674347\n",
      " steps: 9, loss : 0.33930274844169617\n",
      " steps: 10, loss : 0.44650426506996155\n",
      " steps: 11, loss : 0.3229615092277527\n",
      " steps: 12, loss : 0.604377269744873\n",
      "\n",
      " epochs: 8/12 \n",
      "\n",
      " steps: 1, loss : 0.0803089588880539\n",
      " steps: 2, loss : 0.21087443828582764\n",
      " steps: 3, loss : 0.5028778314590454\n",
      " steps: 4, loss : 0.6294712424278259\n",
      " steps: 5, loss : 0.15570491552352905\n",
      " steps: 6, loss : 0.3928602933883667\n",
      " steps: 7, loss : 0.3996441066265106\n",
      " steps: 8, loss : 0.49693727493286133\n",
      " steps: 9, loss : 0.2603842616081238\n",
      " steps: 10, loss : 0.3559332489967346\n",
      " steps: 11, loss : 0.5633781552314758\n",
      " steps: 12, loss : 0.3146490156650543\n",
      "\n",
      " epochs: 9/12 \n",
      "\n",
      " steps: 1, loss : 0.4811142086982727\n",
      " steps: 2, loss : 0.27869293093681335\n",
      " steps: 3, loss : 0.6712111234664917\n",
      " steps: 4, loss : 0.2665148675441742\n",
      " steps: 5, loss : 0.4285334646701813\n",
      " steps: 6, loss : 0.09846457093954086\n",
      " steps: 7, loss : 0.3357110619544983\n",
      " steps: 8, loss : 0.1517263501882553\n",
      " steps: 9, loss : 0.4443489909172058\n",
      " steps: 10, loss : 0.40806713700294495\n",
      " steps: 11, loss : 0.6353175640106201\n",
      " steps: 12, loss : 0.2651509642601013\n",
      "\n",
      " epochs: 10/12 \n",
      "\n",
      " steps: 1, loss : 0.3066712021827698\n",
      " steps: 2, loss : 0.3260478973388672\n",
      " steps: 3, loss : 0.34754541516304016\n",
      " steps: 4, loss : 0.39176061749458313\n",
      " steps: 5, loss : 0.6402608752250671\n",
      " steps: 6, loss : 0.5904761552810669\n",
      " steps: 7, loss : 0.24497516453266144\n",
      " steps: 8, loss : 0.20341546833515167\n",
      " steps: 9, loss : 0.6645510196685791\n",
      " steps: 10, loss : 0.5934995412826538\n",
      " steps: 11, loss : 0.27407050132751465\n",
      " steps: 12, loss : 0.23123660683631897\n",
      "\n",
      " epochs: 11/12 \n",
      "\n",
      " steps: 1, loss : 0.3312050998210907\n",
      " steps: 2, loss : 0.3770344853401184\n",
      " steps: 3, loss : 0.2684396803379059\n",
      " steps: 4, loss : 0.16922838985919952\n",
      " steps: 5, loss : 0.4833194613456726\n",
      " steps: 6, loss : 1.0134871006011963\n",
      " steps: 7, loss : 0.1906197965145111\n",
      " steps: 8, loss : 0.26200607419013977\n",
      " steps: 9, loss : 0.4893847107887268\n",
      " steps: 10, loss : 0.3899216651916504\n",
      " steps: 11, loss : 0.3525308668613434\n",
      " steps: 12, loss : 0.31677064299583435\n",
      "\n",
      " epochs: 12/12 \n",
      "\n",
      " steps: 1, loss : 0.38543039560317993\n",
      " steps: 2, loss : 0.35340064764022827\n",
      " steps: 3, loss : 0.5788924694061279\n",
      " steps: 4, loss : 0.1318664401769638\n",
      " steps: 5, loss : 0.1969410628080368\n",
      " steps: 6, loss : 0.2481767237186432\n",
      " steps: 7, loss : 0.3942641615867615\n",
      " steps: 8, loss : 0.4226105809211731\n",
      " steps: 9, loss : 0.3049466013908386\n",
      " steps: 10, loss : 0.5165648460388184\n",
      " steps: 11, loss : 0.4363950192928314\n",
      " steps: 12, loss : 0.2703484892845154\n"
     ]
    }
   ],
   "source": [
    "n_iters = 12\n",
    "for epochs in range(n_iters):\n",
    "    #forward pass and loss\n",
    "    #test_labels, X_test = next(iter(test_loader))\n",
    "    print(f\"\\n epochs: {epochs+1}/{n_iters} \\n\")\n",
    "    for i,(inputs, labels) in enumerate(train_loader):\n",
    "        out = model(inputs)\n",
    "        train_labels = transform_label(labels)\n",
    "        l = loss(out, train_labels)\n",
    "        #backward pass\n",
    "        l.backward()\n",
    "        #update weights\n",
    "        optim.step()\n",
    "        optim.zero_grad()\n",
    "    \n",
    "        if i % 1 == 0:\n",
    "            print(f\" steps: {i+1}, loss : {l.item()}\")"
   ]
  },
  {
   "cell_type": "code",
   "execution_count": 24,
   "id": "5657a8f1",
   "metadata": {},
   "outputs": [],
   "source": [
    "input_test = torch.tensor([4.9,3.1,1.5,0.1])"
   ]
  },
  {
   "cell_type": "code",
   "execution_count": 25,
   "id": "1550545c",
   "metadata": {},
   "outputs": [
    {
     "data": {
      "text/plain": [
       "tensor([-2.7823,  1.3695, -0.0747], grad_fn=<AddBackward0>)"
      ]
     },
     "execution_count": 25,
     "metadata": {},
     "output_type": "execute_result"
    }
   ],
   "source": [
    "model(input_test)"
   ]
  },
  {
   "cell_type": "code",
   "execution_count": null,
   "id": "57a9ecaf",
   "metadata": {},
   "outputs": [],
   "source": []
  },
  {
   "cell_type": "code",
   "execution_count": 127,
   "id": "dc3b13a7",
   "metadata": {},
   "outputs": [],
   "source": [
    "test_loader = DataLoader(test_dataset, batch_size=10, shuffle=True)\n",
    "X_test, test_labels = next(iter(train_loader))\n",
    "test_labels = transform_label(test_labels)"
   ]
  },
  {
   "cell_type": "code",
   "execution_count": 128,
   "id": "d6085928",
   "metadata": {},
   "outputs": [],
   "source": [
    "x_label_predicted = model(X_test)"
   ]
  },
  {
   "cell_type": "code",
   "execution_count": 129,
   "id": "16e96f00",
   "metadata": {},
   "outputs": [
    {
     "data": {
      "text/plain": [
       "tensor([[ -4.5044,   1.5454,   0.7279],\n",
       "        [  8.6874,  -1.8742,  -4.6533],\n",
       "        [  9.9395,  -2.2701,  -5.2099],\n",
       "        [-12.9874,   2.9779,   3.6421],\n",
       "        [ 10.4682,  -2.4404,  -5.4439],\n",
       "        [ -3.9118,   1.4826,   0.4582],\n",
       "        [ -2.9685,   1.3415,   0.1030],\n",
       "        [ -2.9268,   1.3456,   0.0688],\n",
       "        [ -5.6717,   1.7588,   1.0973],\n",
       "        [  7.4145,  -1.4370,  -4.0997]], grad_fn=<AddmmBackward0>)"
      ]
     },
     "execution_count": 129,
     "metadata": {},
     "output_type": "execute_result"
    }
   ],
   "source": [
    "x_label_predicted"
   ]
  },
  {
   "cell_type": "code",
   "execution_count": 130,
   "id": "286d7de3",
   "metadata": {},
   "outputs": [],
   "source": [
    "_, x_label_predicted_hat = torch.max(x_label_predicted,1)"
   ]
  },
  {
   "cell_type": "code",
   "execution_count": 131,
   "id": "eb41aac7",
   "metadata": {},
   "outputs": [
    {
     "data": {
      "text/plain": [
       "tensor([1, 0, 0, 2, 0, 1, 1, 1, 1, 0])"
      ]
     },
     "execution_count": 131,
     "metadata": {},
     "output_type": "execute_result"
    }
   ],
   "source": [
    "x_label_predicted_hat"
   ]
  },
  {
   "cell_type": "code",
   "execution_count": 132,
   "id": "009faddc",
   "metadata": {},
   "outputs": [],
   "source": [
    "def final_x(x_hat):\n",
    "    list_tensors = []\n",
    "    for i in x_hat:\n",
    "        final_tensor = torch.zeros(1,3)\n",
    "        final_tensor[0:,i] = 1\n",
    "        list_tensors.append(final_tensor)\n",
    "    return torch.cat(list_tensors)\n",
    "    \n",
    "    # tensor[0:,1] = 4 to accses specific value "
   ]
  },
  {
   "cell_type": "code",
   "execution_count": 133,
   "id": "39b4c053",
   "metadata": {},
   "outputs": [],
   "source": [
    "final_x = final_x(x_label_predicted_hat)"
   ]
  },
  {
   "cell_type": "code",
   "execution_count": 134,
   "id": "4e92e27c",
   "metadata": {},
   "outputs": [],
   "source": [
    "#final_x, test_labels\n",
    "#print(f\"{})"
   ]
  },
  {
   "cell_type": "code",
   "execution_count": 135,
   "id": "8ad2a7c1",
   "metadata": {},
   "outputs": [],
   "source": [
    "def get_accuracy(model_prediction, test_labels):\n",
    "    idx = 0\n",
    "    number_pred = 0\n",
    "    counter = 0\n",
    "    while idx < 10:\n",
    "        print(f\" \\n Tensor[{idx+1}]\")\n",
    "        for i in range(3):\n",
    "            print(f\"model: {model_prediction[idx][i].item()}, label: {test_labels[idx][i].item()}\")\n",
    "            if model_prediction[idx][i].item() == test_labels[idx][i].item():\n",
    "\n",
    "                counter += 1\n",
    "                if counter == 3:\n",
    "                    number_pred += 1\n",
    "        counter = 0\n",
    "          \n",
    "        idx +=1\n",
    "    accuracy = number_pred/10 *100\n",
    "    return print(f\"\\naccuracy of model {number_pred/10 *100}%\")"
   ]
  },
  {
   "cell_type": "code",
   "execution_count": 136,
   "id": "ccc3bb92",
   "metadata": {},
   "outputs": [
    {
     "name": "stdout",
     "output_type": "stream",
     "text": [
      " \n",
      " Tensor[1]\n",
      "model: 0.0, label: 0.0\n",
      "model: 1.0, label: 1.0\n",
      "model: 0.0, label: 0.0\n",
      " \n",
      " Tensor[2]\n",
      "model: 1.0, label: 1.0\n",
      "model: 0.0, label: 0.0\n",
      "model: 0.0, label: 0.0\n",
      " \n",
      " Tensor[3]\n",
      "model: 1.0, label: 1.0\n",
      "model: 0.0, label: 0.0\n",
      "model: 0.0, label: 0.0\n",
      " \n",
      " Tensor[4]\n",
      "model: 0.0, label: 0.0\n",
      "model: 0.0, label: 0.0\n",
      "model: 1.0, label: 1.0\n",
      " \n",
      " Tensor[5]\n",
      "model: 1.0, label: 1.0\n",
      "model: 0.0, label: 0.0\n",
      "model: 0.0, label: 0.0\n",
      " \n",
      " Tensor[6]\n",
      "model: 0.0, label: 0.0\n",
      "model: 1.0, label: 1.0\n",
      "model: 0.0, label: 0.0\n",
      " \n",
      " Tensor[7]\n",
      "model: 0.0, label: 0.0\n",
      "model: 1.0, label: 1.0\n",
      "model: 0.0, label: 0.0\n",
      " \n",
      " Tensor[8]\n",
      "model: 0.0, label: 0.0\n",
      "model: 1.0, label: 1.0\n",
      "model: 0.0, label: 0.0\n",
      " \n",
      " Tensor[9]\n",
      "model: 0.0, label: 0.0\n",
      "model: 1.0, label: 0.0\n",
      "model: 0.0, label: 1.0\n",
      " \n",
      " Tensor[10]\n",
      "model: 1.0, label: 1.0\n",
      "model: 0.0, label: 0.0\n",
      "model: 0.0, label: 0.0\n",
      "\n",
      "accuracy of model 90.0%\n"
     ]
    }
   ],
   "source": [
    "get_accuracy(final_x, test_labels)"
   ]
  },
  {
   "cell_type": "code",
   "execution_count": null,
   "id": "78f3c392",
   "metadata": {},
   "outputs": [],
   "source": []
  },
  {
   "cell_type": "code",
   "execution_count": null,
   "id": "46d3f012",
   "metadata": {},
   "outputs": [],
   "source": []
  }
 ],
 "metadata": {
  "kernelspec": {
   "display_name": "Python 3 (ipykernel)",
   "language": "python",
   "name": "python3"
  },
  "language_info": {
   "codemirror_mode": {
    "name": "ipython",
    "version": 3
   },
   "file_extension": ".py",
   "mimetype": "text/x-python",
   "name": "python",
   "nbconvert_exporter": "python",
   "pygments_lexer": "ipython3",
   "version": "3.10.8"
  }
 },
 "nbformat": 4,
 "nbformat_minor": 5
}
