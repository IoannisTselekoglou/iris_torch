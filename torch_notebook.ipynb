{
 "cells": [
  {
   "cell_type": "code",
   "execution_count": 1,
   "id": "7a178dfa",
   "metadata": {},
   "outputs": [],
   "source": [
    "import os\n",
    "import pandas as pd\n",
    "import torch\n",
    "import torch.nn as nn\n",
    "from torch.utils.data import Dataset\n",
    "from torch.utils.data import DataLoader\n",
    "\n"
   ]
  },
  {
   "cell_type": "code",
   "execution_count": 2,
   "id": "e900c8fd",
   "metadata": {},
   "outputs": [],
   "source": [
    "#create custom data class\n",
    "\n",
    "class CustomDataset(Dataset):\n",
    "    def __init__(self,low_idx,high_idx):\n",
    "        self.data = pd.read_csv(\"./dataset/IRIS.csv\", sep=\",\", skiprows=range(low_idx,high_idx), header=1)\n",
    "        \n",
    "    def __len__(self):\n",
    "        return len(self.data)\n",
    "\n",
    "    def __getitem__(self, idx):\n",
    "        sepal_length = torch.tensor(self.data.iloc[idx, 0])\n",
    "        sepal_width = self.data.iloc[idx, 1]\n",
    "        petal_length = self.data.iloc[idx, 2]\n",
    "        petal_width = self.data.iloc[idx, 3] \n",
    "        label = self.data.iloc[idx, 4]\n",
    "        \n",
    "        tensor_data = torch.tensor([sepal_length,sepal_width,sepal_width,sepal_width],dtype=torch.float32)\n",
    "        \n",
    "        return tensor_data , label"
   ]
  },
  {
   "cell_type": "code",
   "execution_count": 3,
   "id": "48179a86",
   "metadata": {},
   "outputs": [],
   "source": [
    "#just my afwull way to seperate training and testing dataset\n",
    "# 80% training , 20% Test\n",
    "\n",
    "train_dataset = CustomDataset(120,149)\n",
    "test_dataset = CustomDataset(1,120)\n"
   ]
  },
  {
   "cell_type": "code",
   "execution_count": 4,
   "id": "2505e107",
   "metadata": {},
   "outputs": [],
   "source": [
    "#create train_dataloader and test_dataloader\n",
    "# 80% for training, 20% of data for testing -> 149*0.8 = 119.2 -> 120 , 29\n",
    "train_loader = DataLoader(train_dataset, batch_size=10, shuffle=True) \n",
    "test_loader = DataLoader(test_dataset, batch_size=10, shuffle=True)"
   ]
  },
  {
   "cell_type": "code",
   "execution_count": 5,
   "id": "6c5883ec",
   "metadata": {},
   "outputs": [],
   "source": [
    "#4 inputs and 3  outputs \n",
    "class NeuralNetwork(nn.Module):\n",
    "    def __init__(self):\n",
    "        super().__init__()\n",
    "        self.linear_stack =  nn.Sequential(\n",
    "         nn.Linear(4,128),\n",
    "         nn.ReLU(),\n",
    "         nn.Linear(128,64),\n",
    "         nn.ReLU(),\n",
    "         nn.Linear(64,3),\n",
    "         )\n",
    "    def forward(self, x):\n",
    "        logits = self.linear_stack(x)\n",
    "        return logits"
   ]
  },
  {
   "cell_type": "code",
   "execution_count": 6,
   "id": "ae5c52d0",
   "metadata": {},
   "outputs": [],
   "source": [
    "#map labels into tensor of shape [1, 0, 0]\n",
    "def transform_label(label_data):\n",
    "    data = []\n",
    "    for i in label_data:\n",
    "        if i == \"Iris-setosa\":\n",
    "            data.append(torch.tensor([1,0,0], dtype=torch.float32))\n",
    "        elif i == \"Iris-versicolor\": \n",
    "            data.append(torch.tensor([0,1,0], dtype=torch.float32))\n",
    "        else:\n",
    "            data.append(torch.tensor([0,0,1], dtype=torch.float32))\n",
    "    return torch.stack(data)"
   ]
  },
  {
   "cell_type": "code",
   "execution_count": 7,
   "id": "650fee92",
   "metadata": {},
   "outputs": [
    {
     "data": {
      "text/plain": [
       "(torch.Size([10, 4]), torch.Size([10, 3]), torch.float32, torch.float32)"
      ]
     },
     "execution_count": 7,
     "metadata": {},
     "output_type": "execute_result"
    }
   ],
   "source": [
    "#train_labels, X_train = next(iter(train_loader))\n",
    "X_train, train_labels = next(iter(train_loader))\n",
    "train_labels = transform_label(train_labels)\n",
    "X_train.shape, train_labels.shape, X_train.dtype, train_labels.dtype"
   ]
  },
  {
   "cell_type": "code",
   "execution_count": 8,
   "id": "ec8e71ce",
   "metadata": {},
   "outputs": [
    {
     "data": {
      "text/plain": [
       "tensor([[6.3000, 2.5000, 2.5000, 2.5000],\n",
       "        [5.9000, 3.0000, 3.0000, 3.0000],\n",
       "        [6.5000, 3.2000, 3.2000, 3.2000],\n",
       "        [7.7000, 2.6000, 2.6000, 2.6000],\n",
       "        [5.1000, 3.7000, 3.7000, 3.7000],\n",
       "        [5.6000, 2.5000, 2.5000, 2.5000],\n",
       "        [6.7000, 3.1000, 3.1000, 3.1000],\n",
       "        [5.8000, 2.8000, 2.8000, 2.8000],\n",
       "        [5.2000, 3.4000, 3.4000, 3.4000],\n",
       "        [7.6000, 3.0000, 3.0000, 3.0000]])"
      ]
     },
     "execution_count": 8,
     "metadata": {},
     "output_type": "execute_result"
    }
   ],
   "source": [
    "X_train"
   ]
  },
  {
   "cell_type": "code",
   "execution_count": 9,
   "id": "73605888",
   "metadata": {},
   "outputs": [
    {
     "data": {
      "text/plain": [
       "tensor([[0., 1., 0.],\n",
       "        [0., 1., 0.],\n",
       "        [0., 0., 1.],\n",
       "        [0., 0., 1.],\n",
       "        [1., 0., 0.],\n",
       "        [0., 1., 0.],\n",
       "        [0., 1., 0.],\n",
       "        [0., 0., 1.],\n",
       "        [1., 0., 0.],\n",
       "        [0., 0., 1.]])"
      ]
     },
     "execution_count": 9,
     "metadata": {},
     "output_type": "execute_result"
    }
   ],
   "source": [
    "train_labels"
   ]
  },
  {
   "cell_type": "code",
   "execution_count": 10,
   "id": "8edbb367",
   "metadata": {},
   "outputs": [],
   "source": [
    "#create model\n",
    "lr = 0.01\n",
    "model = NeuralNetwork()\n",
    "optim = torch.optim.Adam(model.parameters(), lr=lr)\n",
    "loss = torch.nn.CrossEntropyLoss()\n",
    "#Weights are by default torch.32 not 64 --> error message "
   ]
  },
  {
   "cell_type": "code",
   "execution_count": 11,
   "id": "f80d9161",
   "metadata": {
    "scrolled": true
   },
   "outputs": [
    {
     "name": "stdout",
     "output_type": "stream",
     "text": [
      "\n",
      " epochs: 1/12 \n",
      "\n",
      " steps: 1, loss : 1.3056352138519287\n",
      " steps: 2, loss : 2.1316020488739014\n",
      " steps: 3, loss : 1.046773910522461\n",
      " steps: 4, loss : 0.9722232818603516\n",
      " steps: 5, loss : 0.8581293225288391\n",
      " steps: 6, loss : 0.8325742483139038\n",
      " steps: 7, loss : 0.8303266763687134\n",
      " steps: 8, loss : 0.9274429082870483\n",
      " steps: 9, loss : 1.0914428234100342\n",
      " steps: 10, loss : 1.0757962465286255\n",
      " steps: 11, loss : 0.8785656690597534\n",
      " steps: 12, loss : 0.9055712819099426\n",
      "\n",
      " epochs: 2/12 \n",
      "\n",
      " steps: 1, loss : 0.7583292126655579\n",
      " steps: 2, loss : 0.9304589033126831\n",
      " steps: 3, loss : 1.0484877824783325\n",
      " steps: 4, loss : 0.7265259027481079\n",
      " steps: 5, loss : 0.8892237544059753\n",
      " steps: 6, loss : 0.790526807308197\n",
      " steps: 7, loss : 0.5628173351287842\n",
      " steps: 8, loss : 0.7612552046775818\n",
      " steps: 9, loss : 0.9337688684463501\n",
      " steps: 10, loss : 0.7428701519966125\n",
      " steps: 11, loss : 0.49663275480270386\n",
      " steps: 12, loss : 0.5852622985839844\n",
      "\n",
      " epochs: 3/12 \n",
      "\n",
      " steps: 1, loss : 0.6489673852920532\n",
      " steps: 2, loss : 0.5775295495986938\n",
      " steps: 3, loss : 0.5150132179260254\n",
      " steps: 4, loss : 0.7667181491851807\n",
      " steps: 5, loss : 0.3395400047302246\n",
      " steps: 6, loss : 0.3848869204521179\n",
      " steps: 7, loss : 0.5628151297569275\n",
      " steps: 8, loss : 0.5525286793708801\n",
      " steps: 9, loss : 0.20034630596637726\n",
      " steps: 10, loss : 0.6880923509597778\n",
      " steps: 11, loss : 0.5467643141746521\n",
      " steps: 12, loss : 0.6203047037124634\n",
      "\n",
      " epochs: 4/12 \n",
      "\n",
      " steps: 1, loss : 0.5178117156028748\n",
      " steps: 2, loss : 0.3229544758796692\n",
      " steps: 3, loss : 0.6767793297767639\n",
      " steps: 4, loss : 0.33782365918159485\n",
      " steps: 5, loss : 0.4205920100212097\n",
      " steps: 6, loss : 0.52058345079422\n",
      " steps: 7, loss : 0.5515381097793579\n",
      " steps: 8, loss : 0.5268925428390503\n",
      " steps: 9, loss : 0.46242475509643555\n",
      " steps: 10, loss : 0.35381442308425903\n",
      " steps: 11, loss : 0.5251758694648743\n",
      " steps: 12, loss : 0.46647539734840393\n",
      "\n",
      " epochs: 5/12 \n",
      "\n",
      " steps: 1, loss : 0.49211248755455017\n",
      " steps: 2, loss : 0.26159197092056274\n",
      " steps: 3, loss : 0.6532614827156067\n",
      " steps: 4, loss : 0.608676016330719\n",
      " steps: 5, loss : 0.6153293251991272\n",
      " steps: 6, loss : 0.5888668298721313\n",
      " steps: 7, loss : 0.2548655867576599\n",
      " steps: 8, loss : 0.67170649766922\n",
      " steps: 9, loss : 0.25618976354599\n",
      " steps: 10, loss : 0.4239482879638672\n",
      " steps: 11, loss : 0.48283499479293823\n",
      " steps: 12, loss : 0.20154063403606415\n",
      "\n",
      " epochs: 6/12 \n",
      "\n",
      " steps: 1, loss : 0.4667111039161682\n",
      " steps: 2, loss : 0.29594358801841736\n",
      " steps: 3, loss : 0.6846476197242737\n",
      " steps: 4, loss : 0.5888653993606567\n",
      " steps: 5, loss : 0.25552067160606384\n",
      " steps: 6, loss : 0.3971399962902069\n",
      " steps: 7, loss : 0.4572485089302063\n",
      " steps: 8, loss : 0.2703365683555603\n",
      " steps: 9, loss : 0.4576539993286133\n",
      " steps: 10, loss : 0.48147210478782654\n",
      " steps: 11, loss : 0.5117247700691223\n",
      " steps: 12, loss : 0.19111664593219757\n",
      "\n",
      " epochs: 7/12 \n",
      "\n",
      " steps: 1, loss : 0.3430267572402954\n",
      " steps: 2, loss : 0.40643149614334106\n",
      " steps: 3, loss : 0.1616307497024536\n",
      " steps: 4, loss : 0.6320831179618835\n",
      " steps: 5, loss : 0.9060462117195129\n",
      " steps: 6, loss : 0.5614091157913208\n",
      " steps: 7, loss : 0.5332032442092896\n",
      " steps: 8, loss : 0.24776892364025116\n",
      " steps: 9, loss : 0.2991012930870056\n",
      " steps: 10, loss : 0.39483916759490967\n",
      " steps: 11, loss : 0.37851712107658386\n",
      " steps: 12, loss : 0.46178025007247925\n",
      "\n",
      " epochs: 8/12 \n",
      "\n",
      " steps: 1, loss : 0.30519741773605347\n",
      " steps: 2, loss : 0.4734135568141937\n",
      " steps: 3, loss : 0.22686628997325897\n",
      " steps: 4, loss : 0.24880842864513397\n",
      " steps: 5, loss : 0.6337307691574097\n",
      " steps: 6, loss : 0.4532794952392578\n",
      " steps: 7, loss : 0.41585245728492737\n",
      " steps: 8, loss : 0.6495959162712097\n",
      " steps: 9, loss : 0.4131717085838318\n",
      " steps: 10, loss : 0.19050723314285278\n",
      " steps: 11, loss : 0.4370589256286621\n",
      " steps: 12, loss : 0.6507691144943237\n",
      "\n",
      " epochs: 9/12 \n",
      "\n",
      " steps: 1, loss : 0.4392278790473938\n",
      " steps: 2, loss : 0.7516417503356934\n",
      " steps: 3, loss : 0.31366634368896484\n",
      " steps: 4, loss : 0.4493935704231262\n",
      " steps: 5, loss : 0.47634783387184143\n",
      " steps: 6, loss : 0.24330154061317444\n",
      " steps: 7, loss : 0.44760674238204956\n",
      " steps: 8, loss : 0.38263505697250366\n",
      " steps: 9, loss : 0.5204422473907471\n",
      " steps: 10, loss : 0.3672100007534027\n",
      " steps: 11, loss : 0.5685461759567261\n",
      " steps: 12, loss : 0.30657142400741577\n",
      "\n",
      " epochs: 10/12 \n",
      "\n",
      " steps: 1, loss : 0.3824291229248047\n",
      " steps: 2, loss : 0.13427504897117615\n",
      " steps: 3, loss : 0.3875623941421509\n",
      " steps: 4, loss : 0.27514195442199707\n",
      " steps: 5, loss : 0.27940991520881653\n",
      " steps: 6, loss : 0.08657632768154144\n",
      " steps: 7, loss : 0.6278696656227112\n",
      " steps: 8, loss : 0.32622092962265015\n",
      " steps: 9, loss : 1.128252387046814\n",
      " steps: 10, loss : 0.44927388429641724\n",
      " steps: 11, loss : 0.6111299991607666\n",
      " steps: 12, loss : 0.49775320291519165\n",
      "\n",
      " epochs: 11/12 \n",
      "\n",
      " steps: 1, loss : 0.505989670753479\n",
      " steps: 2, loss : 0.3999881148338318\n",
      " steps: 3, loss : 0.3267907202243805\n",
      " steps: 4, loss : 0.4144335389137268\n",
      " steps: 5, loss : 0.264791876077652\n",
      " steps: 6, loss : 0.5383752584457397\n",
      " steps: 7, loss : 0.43672260642051697\n",
      " steps: 8, loss : 0.5490121245384216\n",
      " steps: 9, loss : 0.611977756023407\n",
      " steps: 10, loss : 0.41033482551574707\n",
      " steps: 11, loss : 0.3886549472808838\n",
      " steps: 12, loss : 0.4571284353733063\n",
      "\n",
      " epochs: 12/12 \n",
      "\n",
      " steps: 1, loss : 0.548614501953125\n",
      " steps: 2, loss : 0.39706292748451233\n",
      " steps: 3, loss : 0.3036938011646271\n",
      " steps: 4, loss : 0.3505478799343109\n",
      " steps: 5, loss : 0.4087215065956116\n",
      " steps: 6, loss : 0.5275754332542419\n",
      " steps: 7, loss : 0.33280354738235474\n",
      " steps: 8, loss : 0.34986740350723267\n",
      " steps: 9, loss : 0.398202508687973\n",
      " steps: 10, loss : 0.5029608607292175\n",
      " steps: 11, loss : 0.5154948830604553\n",
      " steps: 12, loss : 0.34500348567962646\n"
     ]
    }
   ],
   "source": [
    "n_iters = 12\n",
    "for epochs in range(n_iters):\n",
    "    #forward pass and loss\n",
    "    #test_labels, X_test = next(iter(test_loader))\n",
    "    print(f\"\\n epochs: {epochs+1}/{n_iters} \\n\")\n",
    "    for i,(inputs, labels) in enumerate(train_loader):\n",
    "        out = model(inputs)\n",
    "        train_labels = transform_label(labels)\n",
    "        l = loss(out, train_labels)\n",
    "        #backward pass\n",
    "        l.backward()\n",
    "        #update weights\n",
    "        optim.step()\n",
    "        optim.zero_grad()\n",
    "    \n",
    "        if i % 1 == 0:\n",
    "            print(f\" steps: {i+1}, loss : {l.item()}\")"
   ]
  },
  {
   "cell_type": "code",
   "execution_count": 12,
   "id": "5657a8f1",
   "metadata": {},
   "outputs": [],
   "source": [
    "input_test = torch.tensor([4.9,3.1,1.5,0.1])"
   ]
  },
  {
   "cell_type": "code",
   "execution_count": 13,
   "id": "1550545c",
   "metadata": {},
   "outputs": [
    {
     "data": {
      "text/plain": [
       "tensor([-4.4558,  2.2277,  1.5091], grad_fn=<AddBackward0>)"
      ]
     },
     "execution_count": 13,
     "metadata": {},
     "output_type": "execute_result"
    }
   ],
   "source": [
    "model(input_test)"
   ]
  },
  {
   "cell_type": "code",
   "execution_count": null,
   "id": "57a9ecaf",
   "metadata": {},
   "outputs": [],
   "source": []
  },
  {
   "cell_type": "code",
   "execution_count": 14,
   "id": "dc3b13a7",
   "metadata": {},
   "outputs": [],
   "source": [
    "test_loader = DataLoader(test_dataset, batch_size=10, shuffle=True)\n",
    "X_test, test_labels = next(iter(train_loader))\n",
    "test_labels = transform_label(test_labels)"
   ]
  },
  {
   "cell_type": "code",
   "execution_count": 15,
   "id": "d6085928",
   "metadata": {},
   "outputs": [],
   "source": [
    "x_label_predicted = model(X_test)"
   ]
  },
  {
   "cell_type": "code",
   "execution_count": 16,
   "id": "16e96f00",
   "metadata": {},
   "outputs": [
    {
     "data": {
      "text/plain": [
       "tensor([[-2.7990,  1.4190,  0.7639],\n",
       "        [-4.8114,  2.4504,  1.7064],\n",
       "        [ 3.0509, -1.3122, -2.6861],\n",
       "        [ 6.7025, -2.7783, -5.0206],\n",
       "        [-4.1604,  2.1224,  1.4235],\n",
       "        [ 4.2213, -1.7859, -3.3817],\n",
       "        [-5.8072,  2.9393,  2.1220],\n",
       "        [ 2.0417, -0.8851, -2.0907],\n",
       "        [-4.8876,  2.4791,  1.7026],\n",
       "        [ 4.3303, -1.8431, -3.4737]], grad_fn=<AddmmBackward0>)"
      ]
     },
     "execution_count": 16,
     "metadata": {},
     "output_type": "execute_result"
    }
   ],
   "source": [
    "x_label_predicted"
   ]
  },
  {
   "cell_type": "code",
   "execution_count": 17,
   "id": "286d7de3",
   "metadata": {},
   "outputs": [],
   "source": [
    "_, x_label_predicted_hat = torch.max(x_label_predicted,1)"
   ]
  },
  {
   "cell_type": "code",
   "execution_count": 18,
   "id": "eb41aac7",
   "metadata": {},
   "outputs": [
    {
     "data": {
      "text/plain": [
       "tensor([1, 1, 0, 0, 1, 0, 1, 0, 1, 0])"
      ]
     },
     "execution_count": 18,
     "metadata": {},
     "output_type": "execute_result"
    }
   ],
   "source": [
    "x_label_predicted_hat"
   ]
  },
  {
   "cell_type": "code",
   "execution_count": 19,
   "id": "009faddc",
   "metadata": {},
   "outputs": [],
   "source": [
    "def final_x(x_hat):\n",
    "    list_tensors = []\n",
    "    for i in x_hat:\n",
    "        final_tensor = torch.zeros(1,3)\n",
    "        final_tensor[0:,i] = 1\n",
    "        list_tensors.append(final_tensor)\n",
    "    return torch.cat(list_tensors)\n",
    "    \n",
    "    # tensor[0:,1] = 4 to accses specific value "
   ]
  },
  {
   "cell_type": "code",
   "execution_count": 20,
   "id": "39b4c053",
   "metadata": {},
   "outputs": [],
   "source": [
    "final_x = final_x(x_label_predicted_hat)"
   ]
  },
  {
   "cell_type": "code",
   "execution_count": 21,
   "id": "4e92e27c",
   "metadata": {},
   "outputs": [],
   "source": [
    "#final_x, test_labels\n",
    "#print(f\"{})"
   ]
  },
  {
   "cell_type": "code",
   "execution_count": 22,
   "id": "8ad2a7c1",
   "metadata": {},
   "outputs": [],
   "source": [
    "def get_accuracy(model_prediction, test_labels):\n",
    "    idx = 0\n",
    "    number_pred = 0\n",
    "    counter = 0\n",
    "    while idx < 10:\n",
    "        print(f\" \\n Tensor[{idx+1}]\")\n",
    "        for i in range(3):\n",
    "            print(f\"model: {model_prediction[idx][i].item()}, label: {test_labels[idx][i].item()}\")\n",
    "            if model_prediction[idx][i].item() == test_labels[idx][i].item():\n",
    "\n",
    "                counter += 1\n",
    "                if counter == 3:\n",
    "                    number_pred += 1\n",
    "        counter = 0\n",
    "          \n",
    "        idx +=1\n",
    "    accuracy = number_pred/10 *100\n",
    "    return print(f\"\\naccuracy of model {number_pred/10 *100}%\")"
   ]
  },
  {
   "cell_type": "code",
   "execution_count": 23,
   "id": "ccc3bb92",
   "metadata": {},
   "outputs": [
    {
     "name": "stdout",
     "output_type": "stream",
     "text": [
      " \n",
      " Tensor[1]\n",
      "model: 0.0, label: 0.0\n",
      "model: 1.0, label: 1.0\n",
      "model: 0.0, label: 0.0\n",
      " \n",
      " Tensor[2]\n",
      "model: 0.0, label: 0.0\n",
      "model: 1.0, label: 1.0\n",
      "model: 0.0, label: 0.0\n",
      " \n",
      " Tensor[3]\n",
      "model: 1.0, label: 1.0\n",
      "model: 0.0, label: 0.0\n",
      "model: 0.0, label: 0.0\n",
      " \n",
      " Tensor[4]\n",
      "model: 1.0, label: 1.0\n",
      "model: 0.0, label: 0.0\n",
      "model: 0.0, label: 0.0\n",
      " \n",
      " Tensor[5]\n",
      "model: 0.0, label: 0.0\n",
      "model: 1.0, label: 1.0\n",
      "model: 0.0, label: 0.0\n",
      " \n",
      " Tensor[6]\n",
      "model: 1.0, label: 1.0\n",
      "model: 0.0, label: 0.0\n",
      "model: 0.0, label: 0.0\n",
      " \n",
      " Tensor[7]\n",
      "model: 0.0, label: 0.0\n",
      "model: 1.0, label: 1.0\n",
      "model: 0.0, label: 0.0\n",
      " \n",
      " Tensor[8]\n",
      "model: 1.0, label: 1.0\n",
      "model: 0.0, label: 0.0\n",
      "model: 0.0, label: 0.0\n",
      " \n",
      " Tensor[9]\n",
      "model: 0.0, label: 0.0\n",
      "model: 1.0, label: 0.0\n",
      "model: 0.0, label: 1.0\n",
      " \n",
      " Tensor[10]\n",
      "model: 1.0, label: 1.0\n",
      "model: 0.0, label: 0.0\n",
      "model: 0.0, label: 0.0\n",
      "\n",
      "accuracy of model 90.0%\n"
     ]
    }
   ],
   "source": [
    "get_accuracy(final_x, test_labels)"
   ]
  },
  {
   "cell_type": "code",
   "execution_count": null,
   "id": "78f3c392",
   "metadata": {},
   "outputs": [],
   "source": []
  },
  {
   "cell_type": "code",
   "execution_count": null,
   "id": "46d3f012",
   "metadata": {},
   "outputs": [],
   "source": []
  }
 ],
 "metadata": {
  "kernelspec": {
   "display_name": "Python 3 (ipykernel)",
   "language": "python",
   "name": "python3"
  },
  "language_info": {
   "codemirror_mode": {
    "name": "ipython",
    "version": 3
   },
   "file_extension": ".py",
   "mimetype": "text/x-python",
   "name": "python",
   "nbconvert_exporter": "python",
   "pygments_lexer": "ipython3",
   "version": "3.10.8"
  }
 },
 "nbformat": 4,
 "nbformat_minor": 5
}
