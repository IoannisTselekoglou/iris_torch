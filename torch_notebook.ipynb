{
 "cells": [
  {
   "cell_type": "code",
   "execution_count": 1,
   "id": "7a178dfa",
   "metadata": {},
   "outputs": [],
   "source": [
    "import os\n",
    "import pandas as pd\n",
    "import torch\n",
    "import torch.nn as nn\n",
    "from torch.utils.data import Dataset\n",
    "from torch.utils.data import DataLoader\n",
    "import torch\n",
    "from sklearn.model_selection import train_test_split"
   ]
  },
  {
   "cell_type": "code",
   "execution_count": 2,
   "id": "e900c8fd",
   "metadata": {},
   "outputs": [],
   "source": [
    "#create custom data class\n",
    "\n",
    "class CustomDataset(Dataset):\n",
    "    def __init__(self, path):\n",
    "        self.data = pd.read_csv(path, sep=\",\", header=1)\n",
    "        \n",
    "    def __len__(self):\n",
    "        return len(self.data)\n",
    "\n",
    "    def __getitem__(self, idx):\n",
    "        sepal_length = torch.tensor(self.data.iloc[idx, 0])\n",
    "        sepal_width = self.data.iloc[idx, 1]\n",
    "        petal_length = self.data.iloc[idx, 2]\n",
    "        petal_width = self.data.iloc[idx, 3] \n",
    "        label = self.data.iloc[idx, 4]\n",
    "        \n",
    "        tensor_data = torch.tensor([sepal_length,sepal_width,sepal_width,sepal_width],dtype=torch.float32)\n",
    "        \n",
    "        return tensor_data , label"
   ]
  },
  {
   "cell_type": "code",
   "execution_count": 3,
   "id": "48179a86",
   "metadata": {},
   "outputs": [
    {
     "data": {
      "text/plain": [
       "(120, 29)"
      ]
     },
     "execution_count": 3,
     "metadata": {},
     "output_type": "execute_result"
    }
   ],
   "source": [
    "#just my afwull way to seperate training and testing dataset\n",
    "# 80% training , 20% Test\n",
    "\n",
    "dataset = CustomDataset(\"./dataset/IRIS.csv\")\n",
    "train_dataset, val_dataset = torch.utils.data.random_split(dataset, [0.8, 0.2])\n",
    "len(train_dataset),len(val_dataset)"
   ]
  },
  {
   "cell_type": "code",
   "execution_count": 43,
   "id": "2505e107",
   "metadata": {},
   "outputs": [],
   "source": [
    "#create train_dataloader and test_dataloader\n",
    "# 80% for training, 20% of data for testing -> 149*0.8 = 119.2 -> 120 , 29\n",
    "batch_size = 5\n",
    "\n",
    "train_loader = DataLoader(dataset, batch_size=batch_size, shuffle=True) \n",
    "test_loader = DataLoader(dataset, batch_size=batch_size, shuffle=True)"
   ]
  },
  {
   "cell_type": "code",
   "execution_count": 44,
   "id": "6c5883ec",
   "metadata": {},
   "outputs": [],
   "source": [
    "#4 inputs and 3  outputs \n",
    "class NeuralNetwork(nn.Module):\n",
    "    def __init__(self):\n",
    "        super().__init__()\n",
    "        self.linear_stack =  nn.Sequential(\n",
    "         nn.Linear(4,128),\n",
    "         nn.ReLU(),\n",
    "         nn.Linear(128,64),\n",
    "         nn.ReLU(),\n",
    "         nn.Linear(64,3),\n",
    "         )\n",
    "    def forward(self, x):\n",
    "        logits = self.linear_stack(x)\n",
    "        return logits"
   ]
  },
  {
   "cell_type": "code",
   "execution_count": 45,
   "id": "ae5c52d0",
   "metadata": {},
   "outputs": [],
   "source": [
    "#map labels into tensor of shape [1, 0, 0]\n",
    "def transform_label(label_data):\n",
    "    data = []\n",
    "    for i in label_data:\n",
    "        if i == \"Iris-setosa\":\n",
    "            #data.append(torch.tensor([1,0,0], dtype=torch.float32))\n",
    "            data.append(torch.tensor(0))\n",
    "        if i == \"Iris-versicolor\": \n",
    "            #data.append(torch.tensor([0,1,0], dtype=torch.float32))\n",
    "            data.append(torch.tensor(1))\n",
    "        if i == \"Iris-virginica\":\n",
    "            #data.append(torch.tensor([0,0,1], dtype=torch.float32))\n",
    "            data.append(torch.tensor(2))\n",
    "    return torch.stack(data)"
   ]
  },
  {
   "cell_type": "code",
   "execution_count": 46,
   "id": "7705271c",
   "metadata": {},
   "outputs": [
    {
     "data": {
      "text/plain": [
       "('Iris-versicolor',\n",
       " 'Iris-virginica',\n",
       " 'Iris-setosa',\n",
       " 'Iris-setosa',\n",
       " 'Iris-versicolor')"
      ]
     },
     "execution_count": 46,
     "metadata": {},
     "output_type": "execute_result"
    }
   ],
   "source": [
    "X_train, train_labels = next(iter(train_loader))\n",
    "#train_labels before mapping tesnors \n",
    "train_labels"
   ]
  },
  {
   "cell_type": "code",
   "execution_count": 47,
   "id": "650fee92",
   "metadata": {},
   "outputs": [
    {
     "data": {
      "text/plain": [
       "tensor([1, 2, 0, 0, 1])"
      ]
     },
     "execution_count": 47,
     "metadata": {},
     "output_type": "execute_result"
    }
   ],
   "source": [
    "#train_labels, X_train = next(iter(train_loader))\n",
    "train_labels = transform_label(train_labels)\n",
    "X_train.shape, train_labels.shape, X_train.dtype, train_labels.dtype\n",
    "train_labels"
   ]
  },
  {
   "cell_type": "code",
   "execution_count": 48,
   "id": "ec8e71ce",
   "metadata": {},
   "outputs": [
    {
     "data": {
      "text/plain": [
       "(tensor([[5.4000, 3.0000, 3.0000, 3.0000],\n",
       "         [7.9000, 3.8000, 3.8000, 3.8000],\n",
       "         [5.1000, 3.8000, 3.8000, 3.8000],\n",
       "         [4.6000, 3.2000, 3.2000, 3.2000],\n",
       "         [5.6000, 2.9000, 2.9000, 2.9000]]),\n",
       " tensor([1, 2, 0, 0, 1]))"
      ]
     },
     "execution_count": 48,
     "metadata": {},
     "output_type": "execute_result"
    }
   ],
   "source": [
    "X_train, train_labels"
   ]
  },
  {
   "cell_type": "code",
   "execution_count": 49,
   "id": "8edbb367",
   "metadata": {},
   "outputs": [],
   "source": [
    "#create model\n",
    "lr = 0.01\n",
    "model = NeuralNetwork()\n",
    "optim = torch.optim.Adam(model.parameters(), lr=lr)\n",
    "loss = torch.nn.CrossEntropyLoss()\n",
    "#loss = torch.nn.MSELoss()\n",
    "#Weights are by default torch.32 not 64 --> error message "
   ]
  },
  {
   "cell_type": "code",
   "execution_count": null,
   "id": "f80d9161",
   "metadata": {
    "scrolled": true
   },
   "outputs": [
    {
     "name": "stdout",
     "output_type": "stream",
     "text": [
      "\n",
      " epoch: 1000.0/10000, loss: 0.5142971277236938\n",
      "\n",
      " epoch: 2000.0/10000, loss: 0.3958474592191433\n",
      "\n",
      " epoch: 3000.0/10000, loss: 0.39709252067651335\n",
      "\n",
      " epoch: 4000.0/10000, loss: 0.39857379008032967\n",
      "\n",
      " epoch: 5000.0/10000, loss: 0.39702378895415597\n",
      "\n",
      " epoch: 6000.0/10000, loss: 0.3947690560339501\n"
     ]
    }
   ],
   "source": [
    "n_iters = 10000\n",
    "steps = n_iters/10\n",
    "LOSS = []\n",
    "for epochs in range(n_iters):  \n",
    "    for i,(inputs, labels) in enumerate(train_loader):\n",
    "        out = model(inputs)\n",
    "        train_labels = transform_label(labels)\n",
    "        l = loss(out, train_labels)\n",
    "        l.backward()\n",
    "        #update weights\n",
    "        optim.step()\n",
    "        optim.zero_grad()\n",
    "    LOSS.append(l.item())\n",
    "    if epochs%steps == 0:\n",
    "        print(f\"\\n epoch: {epochs+steps}/{n_iters}, loss: {sum(LOSS)/len(LOSS)}\")\n",
    "        #if i % 1 == 0:\n",
    "            #print(f\" steps: {i+1}, loss : {l.item()}\")"
   ]
  },
  {
   "cell_type": "code",
   "execution_count": 51,
   "id": "dc3b13a7",
   "metadata": {},
   "outputs": [],
   "source": [
    "#X_test, test_labels = next(iter(test_loader))\n",
    "#test_labels = transform_label(test_labels)\n",
    "#x_label_predicted = model(X_test)\n",
    "#x_label_predicted, test_labels"
   ]
  },
  {
   "cell_type": "code",
   "execution_count": null,
   "id": "286d7de3",
   "metadata": {},
   "outputs": [],
   "source": [
    "#\"\"\"\"\n",
    "#def final_x(x_hat):\n",
    "#    list_tensors = []\n",
    "#    for i in x_hat:\n",
    "#        print(i)\n",
    "#        final_tensor = torch.zeros(1,3)\n",
    "#        final_tensor[0:,i] = 1\n",
    "#        list_tensors.append(final_tensor)\n",
    "#    return torch.cat(list_tensors)\n",
    "#    \n",
    "#    # tensor[0:,1] = 4 to accses specific value \n",
    "#_, x_label_predicted_hat = torch.max(x_label_predicted,1)\n",
    "#x_label_predicted_hat"
   ]
  },
  {
   "cell_type": "code",
   "execution_count": 53,
   "id": "39b4c053",
   "metadata": {},
   "outputs": [],
   "source": [
    "#final_x = final_x(x_label_predicted_hat)"
   ]
  },
  {
   "cell_type": "code",
   "execution_count": 54,
   "id": "8ad2a7c1",
   "metadata": {},
   "outputs": [],
   "source": [
    "def get_accuracy(model_prediction, test_labels):\n",
    "    idx = 0\n",
    "    number_pred = 0\n",
    "    counter = 0\n",
    "    while idx < 10:\n",
    "        print(f\" \\n Tensor[{idx+1}]\")\n",
    "        for i in range(3):\n",
    "            print(f\"model: {model_prediction[idx][i].item()}, label: {test_labels[idx][i].item()}\")\n",
    "            if model_prediction[idx][i].item() == test_labels[idx][i].item():\n",
    "\n",
    "                counter += 1\n",
    "                if counter == 3:\n",
    "                    number_pred += 1\n",
    "        counter = 0\n",
    "          \n",
    "        idx +=1\n",
    "    accuracy = number_pred/10 *100\n",
    "    return print(f\"\\naccuracy of model {number_pred/10 *100}%\")"
   ]
  },
  {
   "cell_type": "code",
   "execution_count": 55,
   "id": "ccc3bb92",
   "metadata": {},
   "outputs": [],
   "source": [
    "#get_accuracy(final_x, test_labels)"
   ]
  },
  {
   "cell_type": "code",
   "execution_count": 56,
   "id": "78f3c392",
   "metadata": {},
   "outputs": [
    {
     "name": "stdout",
     "output_type": "stream",
     "text": [
      "accuracy batch 0:\n",
      "40.0%\n",
      "accuracy batch 1:\n",
      "80.0%\n",
      "accuracy batch 2:\n",
      "80.0%\n",
      "accuracy batch 3:\n",
      "100.0%\n",
      "accuracy batch 4:\n",
      "100.0%\n",
      "accuracy batch 5:\n",
      "100.0%\n",
      "accuracy batch 6:\n",
      "80.0%\n",
      "accuracy batch 7:\n",
      "80.0%\n",
      "accuracy batch 8:\n",
      "80.0%\n",
      "accuracy batch 9:\n",
      "80.0%\n",
      "accuracy batch 10:\n",
      "80.0%\n",
      "accuracy batch 11:\n",
      "60.0%\n",
      "accuracy batch 12:\n",
      "80.0%\n",
      "accuracy batch 13:\n",
      "100.0%\n",
      "accuracy batch 14:\n",
      "80.0%\n",
      "accuracy batch 15:\n",
      "100.0%\n",
      "accuracy batch 16:\n",
      "80.0%\n",
      "accuracy batch 17:\n",
      "80.0%\n",
      "accuracy batch 18:\n",
      "100.0%\n",
      "accuracy batch 19:\n",
      "100.0%\n",
      "accuracy batch 20:\n",
      "40.0%\n",
      "accuracy batch 21:\n",
      "60.0%\n",
      "accuracy batch 22:\n",
      "100.0%\n",
      "accuracy batch 23:\n",
      "80.0%\n",
      "accuracy batch 24:\n",
      "60.0%\n",
      "accuracy batch 25:\n",
      "80.0%\n",
      "accuracy batch 26:\n",
      "40.0%\n",
      "accuracy batch 27:\n",
      "100.0%\n",
      "accuracy batch 28:\n",
      "80.0%\n",
      "accuracy batch 29:\n",
      "100.0%\n",
      "\n",
      "total accuracy of model 80.67%\n"
     ]
    }
   ],
   "source": [
    "#test_loader = DataLoader(test_dataset, batch_size=10, shuffle=True)\n",
    "import accuracy_model as ac\n",
    "test_model_acc = ac.data_loader\n",
    "test_model_acc.accuracy(model, test_loader, batch_size=10)"
   ]
  },
  {
   "cell_type": "code",
   "execution_count": 57,
   "id": "a0ceab23",
   "metadata": {},
   "outputs": [],
   "source": [
    "# save model \n",
    "#torch.save(model.state_dict(), \"./model\")"
   ]
  },
  {
   "cell_type": "code",
   "execution_count": null,
   "id": "13ddf8bd",
   "metadata": {},
   "outputs": [],
   "source": []
  },
  {
   "cell_type": "code",
   "execution_count": null,
   "id": "4001b016",
   "metadata": {},
   "outputs": [],
   "source": []
  }
 ],
 "metadata": {
  "kernelspec": {
   "display_name": "Python 3 (ipykernel)",
   "language": "python",
   "name": "python3"
  },
  "language_info": {
   "codemirror_mode": {
    "name": "ipython",
    "version": 3
   },
   "file_extension": ".py",
   "mimetype": "text/x-python",
   "name": "python",
   "nbconvert_exporter": "python",
   "pygments_lexer": "ipython3",
   "version": "3.10.8"
  }
 },
 "nbformat": 4,
 "nbformat_minor": 5
}
